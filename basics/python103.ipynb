{
 "cells": [
  {
   "cell_type": "markdown",
   "id": "d4c6b754-7e45-479e-8277-803d40215d6d",
   "metadata": {
    "tags": []
   },
   "source": [
    "# Python I\n",
    "\n",
    "0. `\"hello, world\"`\n",
    "1. Variables and Data-Types\n",
    "2. Input and Output\n",
    "3. Operators\n",
    "4. Conditional Statements\n",
    "5. Loop Statements\n",
    "6. String Methods\n",
    "7. Functions I\n",
    "8. Advanced Data-Types  $\\longleftarrow$"
   ]
  },
  {
   "cell_type": "markdown",
   "id": "52752d54-2418-48e4-a6ba-b3a397e50785",
   "metadata": {},
   "source": [
    "---"
   ]
  },
  {
   "cell_type": "markdown",
   "id": "26e189f1-eb8f-4e16-8332-f615b8365c11",
   "metadata": {},
   "source": [
    "## Advanced Data-Types\n",
    "\n",
    "Advanced Data-Types are container objects that let us organize other types of objects into one data structure.\n",
    "\n",
    "Some are:\n",
    "1. List\n",
    "2. Tuple\n",
    "3. Dictionary\n",
    "4. Set"
   ]
  },
  {
   "cell_type": "markdown",
   "id": "1cfc2407-dbcc-4024-bc1f-9a99a5d12325",
   "metadata": {},
   "source": [
    "---"
   ]
  },
  {
   "cell_type": "markdown",
   "id": "0be42687-5160-484a-b86f-1a48aa58c5d5",
   "metadata": {
    "tags": []
   },
   "source": [
    "### List\n",
    "\n",
    "- Ordered\n",
    "- Mutable\n",
    "- Can contain duplicates"
   ]
  },
  {
   "cell_type": "code",
   "execution_count": 1,
   "id": "425addb2-9d91-418b-adc6-eadc6f77b714",
   "metadata": {
    "tags": []
   },
   "outputs": [],
   "source": [
    "fruits = ['apple', 'banana', 'orange', 'strawberry', 'mango']"
   ]
  },
  {
   "cell_type": "code",
   "execution_count": 3,
   "id": "323db2cc-f170-430f-9a0d-528c2b1c3606",
   "metadata": {
    "tags": []
   },
   "outputs": [],
   "source": [
    "vegetables = ['potato', 'tomato']"
   ]
  },
  {
   "cell_type": "code",
   "execution_count": 5,
   "id": "513ac977-2dbd-49d1-8e5b-3ef456680cfc",
   "metadata": {
    "tags": []
   },
   "outputs": [
    {
     "name": "stdout",
     "output_type": "stream",
     "text": [
      "mango\n",
      "strawberry\n",
      "['orange', 'strawberry']\n",
      "['mango', 'orange', 'apple']\n"
     ]
    }
   ],
   "source": [
    "# indexing\n",
    "print(fruits[4])\n",
    "print(fruits[-2])\n",
    "\n",
    "# slicing\n",
    "print(fruits[2:4])\n",
    "print(fruits[::-2])"
   ]
  },
  {
   "cell_type": "code",
   "execution_count": 7,
   "id": "4b68d505-1a9b-4e0c-89b9-a02ea8ba5197",
   "metadata": {
    "tags": []
   },
   "outputs": [
    {
     "name": "stdout",
     "output_type": "stream",
     "text": [
      "5\n",
      "2\n",
      "0\n"
     ]
    }
   ],
   "source": [
    "print(len(fruits))\n",
    "print(fruits.index('orange'))\n",
    "print(fruits.count('potato'))\n",
    "\n",
    "fruits.pop()               # removes last element in list (LIFO)\n",
    "fruits.remove('apple') \n",
    "\n",
    "fruits.append('cherry')\n",
    "fruits.insert(2, 'avocado')\n",
    "fruits.extend(vegetables)  # appends a list to parent list"
   ]
  },
  {
   "cell_type": "code",
   "execution_count": 9,
   "id": "f3ae8ecc-451f-42e0-849d-6bc3d5823e77",
   "metadata": {
    "tags": []
   },
   "outputs": [
    {
     "data": {
      "text/plain": [
       "['banana', 'orange', 'avocado', 'strawberry', 'cherry', 'potato', 'tomato']"
      ]
     },
     "execution_count": 9,
     "metadata": {},
     "output_type": "execute_result"
    }
   ],
   "source": [
    "fruits"
   ]
  },
  {
   "cell_type": "code",
   "execution_count": 56,
   "id": "0fb53964-bd6c-4b89-9ba4-47ab718adb0c",
   "metadata": {
    "tags": []
   },
   "outputs": [
    {
     "name": "stdout",
     "output_type": "stream",
     "text": [
      "1 banana\n",
      "2 orange\n",
      "3 avocado\n",
      "4 strawberry\n",
      "5 cherry\n",
      "6 potato\n",
      "7 tomato\n"
     ]
    }
   ],
   "source": [
    "for i, fruit in enumerate(fruits):\n",
    "    print(i+1, fruit)"
   ]
  },
  {
   "cell_type": "code",
   "execution_count": 57,
   "id": "7abccd11-2cd4-4d72-a29a-14531672734e",
   "metadata": {
    "tags": []
   },
   "outputs": [
    {
     "data": {
      "text/plain": [
       "False"
      ]
     },
     "execution_count": 57,
     "metadata": {},
     "output_type": "execute_result"
    }
   ],
   "source": [
    "# membership operator\n",
    "'pineapple' in fruits"
   ]
  },
  {
   "cell_type": "code",
   "execution_count": 58,
   "id": "d1f63781-34c4-41f0-81c9-ff394fa65c24",
   "metadata": {
    "tags": []
   },
   "outputs": [
    {
     "data": {
      "text/plain": [
       "[['fish', 'chicken', 'beef', 'mutton'],\n",
       " ['milk', 'curd', 'malai', 'butter'],\n",
       " ['potatoes', 'tomatoes', 'onions', 'chillies']]"
      ]
     },
     "execution_count": 58,
     "metadata": {},
     "output_type": "execute_result"
    }
   ],
   "source": [
    "# 2d list\n",
    "meats = ['fish', 'chicken', 'beef', 'mutton']\n",
    "dairy = ['milk', 'curd', 'malai', 'butter']\n",
    "market = ['potatoes', 'tomatoes', 'onions', 'chillies']\n",
    "\n",
    "groceries = [meats, dairy, market]\n",
    "groceries"
   ]
  },
  {
   "cell_type": "markdown",
   "id": "3a6d7a30-f7ba-495e-aa12-200190464940",
   "metadata": {},
   "source": [
    "---"
   ]
  },
  {
   "cell_type": "markdown",
   "id": "867b4a28-8204-4ece-8493-d6c5cfd20d70",
   "metadata": {},
   "source": [
    "**Exercise:** Write a program that prints the bill of a shopping cart."
   ]
  },
  {
   "cell_type": "code",
   "execution_count": 59,
   "id": "efaa3b8a-e217-4a7b-89e7-c5568cdb7638",
   "metadata": {
    "tags": []
   },
   "outputs": [
    {
     "name": "stdin",
     "output_type": "stream",
     "text": [
      "Enter name of product or q to quit:  chocolate\n",
      "Enter price of product:  150\n",
      "Enter name of product or q to quit:  oil\n",
      "Enter price of product:  230\n",
      "Enter name of product or q to quit:  apple\n",
      "Enter price of product:  2\n",
      "Enter name of product or q to quit:  noods\n",
      "Enter price of product:  80\n",
      "Enter name of product or q to quit:  q\n"
     ]
    },
    {
     "name": "stdout",
     "output_type": "stream",
     "text": [
      "1 chocolate            150.0\n",
      "2 oil                  230.0\n",
      "3 apple                2.0\n",
      "4 noods                80.0\n",
      "Total: 462.0\n"
     ]
    }
   ],
   "source": [
    "foods = []\n",
    "prices = []\n",
    "total = 0\n",
    "\n",
    "while True:\n",
    "    food = input(\"Enter name of product or q to quit: \")\n",
    "    if food.casefold() == 'q':\n",
    "        break\n",
    "    else:\n",
    "        foods.append(food)\n",
    "        price = float(input(\"Enter price of product: \"))\n",
    "        prices.append(price)\n",
    "\n",
    "for price in prices:\n",
    "    total += price\n",
    "\n",
    "for i,food in enumerate(foods):\n",
    "    print(f\"{i+1} {food:20} {prices[i]}\")\n",
    "\n",
    "print(f\"Total: {total}\")"
   ]
  },
  {
   "cell_type": "markdown",
   "id": "38366edd-7cbf-438d-bc53-66c123cb9f90",
   "metadata": {},
   "source": [
    "---"
   ]
  },
  {
   "cell_type": "code",
   "execution_count": 60,
   "id": "bbdb48ca-b942-4bdf-a77f-25f4c9828ba9",
   "metadata": {
    "tags": []
   },
   "outputs": [
    {
     "data": {
      "text/plain": [
       "[0, 1, 8, 27, 64, 125, 216, 343, 512, 729, 1000]"
      ]
     },
     "execution_count": 60,
     "metadata": {},
     "output_type": "execute_result"
    }
   ],
   "source": [
    "# list comprehension 1\n",
    "cubes = [i**3 for i in range(11)]\n",
    "cubes"
   ]
  },
  {
   "cell_type": "code",
   "execution_count": 13,
   "id": "8e23bf3a-6476-477b-9f78-e6e61be00b73",
   "metadata": {
    "tags": []
   },
   "outputs": [
    {
     "data": {
      "text/plain": [
       "[0, 8, 64, 216, 512, 1000]"
      ]
     },
     "execution_count": 13,
     "metadata": {},
     "output_type": "execute_result"
    }
   ],
   "source": [
    "# list comprehension 2\n",
    "cubes = [i**3 for i in range(11) if i%2==0]\n",
    "cubes"
   ]
  },
  {
   "cell_type": "code",
   "execution_count": 62,
   "id": "0c3c1c9b-f07c-4ca2-8e9c-6a4af8b75598",
   "metadata": {
    "tags": []
   },
   "outputs": [
    {
     "data": {
      "text/plain": [
       "[0, 1, 8, 9, 64, 25, 216, 49, 512, 81, 1000]"
      ]
     },
     "execution_count": 62,
     "metadata": {},
     "output_type": "execute_result"
    }
   ],
   "source": [
    "# list comprehension 3\n",
    "cubes = [i**3 if i%2==0 else i**2 for i in range(11)]\n",
    "cubes"
   ]
  },
  {
   "cell_type": "markdown",
   "id": "eec2fdb7-e3d9-4712-baf4-0bfa0ba09bd4",
   "metadata": {},
   "source": [
    "---"
   ]
  },
  {
   "cell_type": "markdown",
   "id": "65d1f79f-d7b6-45ad-81d5-38c991be3196",
   "metadata": {
    "tags": []
   },
   "source": [
    "### Tuple\n",
    "\n",
    "- Ordered\n",
    "- Immutable\n",
    "- Can contain duplicates"
   ]
  },
  {
   "cell_type": "code",
   "execution_count": 10,
   "id": "41318158-cb34-4d1c-bee7-fae61612451a",
   "metadata": {
    "tags": []
   },
   "outputs": [],
   "source": [
    "fruits = ('apple', 'banana', 'orange', 'strawberry', 'mango', 'kiwi')"
   ]
  },
  {
   "cell_type": "code",
   "execution_count": 17,
   "id": "05a96859-d1a3-49a7-ae73-dfcb4881af41",
   "metadata": {
    "tags": []
   },
   "outputs": [
    {
     "name": "stdout",
     "output_type": "stream",
     "text": [
      "0\n",
      "1\n"
     ]
    }
   ],
   "source": [
    "print(fruits.index('apple'))\n",
    "print(fruits.count('kiwi'))"
   ]
  },
  {
   "cell_type": "code",
   "execution_count": 22,
   "id": "7d39ece9-f184-4514-8aea-4a560f0dacbd",
   "metadata": {
    "tags": []
   },
   "outputs": [
    {
     "name": "stdout",
     "output_type": "stream",
     "text": [
      "mango\n",
      "('apple', 'strawberry')\n"
     ]
    }
   ],
   "source": [
    "# indexing\n",
    "print(fruits[4])\n",
    "\n",
    "# slicing\n",
    "print(fruits[::3])"
   ]
  },
  {
   "cell_type": "code",
   "execution_count": 71,
   "id": "a7b06c61-11d6-4a2e-9847-4eeb9aa8ae09",
   "metadata": {
    "tags": []
   },
   "outputs": [
    {
     "name": "stdout",
     "output_type": "stream",
     "text": [
      "apple\n",
      "banana\n",
      "orange\n",
      "strawberry\n",
      "mango\n",
      "kiwi\n"
     ]
    }
   ],
   "source": [
    "for fruit in fruits:\n",
    "    print(fruit)"
   ]
  },
  {
   "cell_type": "code",
   "execution_count": 72,
   "id": "37e7d00b-dc64-41d0-9a21-687c8ffcc7b5",
   "metadata": {
    "tags": []
   },
   "outputs": [
    {
     "data": {
      "text/plain": [
       "True"
      ]
     },
     "execution_count": 72,
     "metadata": {},
     "output_type": "execute_result"
    }
   ],
   "source": [
    "# membership operator\n",
    "'orange' in fruits"
   ]
  },
  {
   "cell_type": "markdown",
   "id": "32c9f6bf-7ac0-49b5-9a6f-84aa748cf854",
   "metadata": {},
   "source": [
    "---"
   ]
  },
  {
   "cell_type": "markdown",
   "id": "b5872033-18f2-4395-82a3-e96808419b5b",
   "metadata": {
    "tags": []
   },
   "source": [
    "### Dictionary\n",
    "\n",
    "- Unordered\n",
    "- Mutable\n",
    "- Key value pair"
   ]
  },
  {
   "cell_type": "code",
   "execution_count": 41,
   "id": "408c1b2c-bb1b-4261-b935-c9071f7c6bbb",
   "metadata": {
    "tags": []
   },
   "outputs": [],
   "source": [
    "capitals = {'USA': 'Washington DC','India': 'New Delhi','Russia': 'Moscow','Saudi Arabia': 'Riyadh'}"
   ]
  },
  {
   "cell_type": "code",
   "execution_count": 45,
   "id": "4fa8fa3d-1b41-4858-8444-d8711e6eb6cd",
   "metadata": {
    "tags": []
   },
   "outputs": [
    {
     "name": "stdout",
     "output_type": "stream",
     "text": [
      "4\n",
      "None\n",
      "dict_keys(['USA', 'India', 'Russia', 'Saudi Arabia'])\n"
     ]
    },
    {
     "data": {
      "text/plain": [
       "('Saudi Arabia', 'Riyadh')"
      ]
     },
     "execution_count": 45,
     "metadata": {},
     "output_type": "execute_result"
    }
   ],
   "source": [
    "print(len(capitals))\n",
    "\n",
    "print(capitals.get('UAE'))               # retrieves value from key\n",
    "print(capitals.keys())\n",
    "capitals.update({'India': 'Hyderabad'})  # can also add new elements\n",
    "\n",
    "capitals.pop('Russia', None)  # removes value through key\n",
    "capitals.popitem()            # removes last item (LIFO)"
   ]
  },
  {
   "cell_type": "code",
   "execution_count": 47,
   "id": "56c52aa0-b57b-4644-9db1-4d508ce49a55",
   "metadata": {
    "tags": []
   },
   "outputs": [
    {
     "data": {
      "text/plain": [
       "{'USA': 'Washington DC', 'India': 'Hyderabad'}"
      ]
     },
     "execution_count": 47,
     "metadata": {},
     "output_type": "execute_result"
    }
   ],
   "source": [
    "capitals"
   ]
  },
  {
   "cell_type": "code",
   "execution_count": 76,
   "id": "5abc0aad-2d49-4875-a989-596ead36f3a1",
   "metadata": {
    "tags": []
   },
   "outputs": [
    {
     "name": "stdout",
     "output_type": "stream",
     "text": [
      "USA: Washington DC\n",
      "India: Hyderabad\n"
     ]
    }
   ],
   "source": [
    "for key, value in capitals.items():\n",
    "    print(f\"{key}: {value}\")"
   ]
  },
  {
   "cell_type": "code",
   "execution_count": 77,
   "id": "211cd9ca-037c-4a61-8d09-9227aa7f03d7",
   "metadata": {
    "tags": []
   },
   "outputs": [
    {
     "data": {
      "text/plain": [
       "{'Riyadh': 113, 'Moscow': 43, 'Chicago': 52, 'India': 86}"
      ]
     },
     "execution_count": 77,
     "metadata": {},
     "output_type": "execute_result"
    }
   ],
   "source": [
    "# dictionary comprehension 1\n",
    "temp_C = {'Riyadh': 45,'Moscow': 6,'Chicago': 11,'India': 30}\n",
    "temp_F = {key: round(value*(9/5)+32) for key, value in temp_C.items()}\n",
    "temp_F"
   ]
  },
  {
   "cell_type": "code",
   "execution_count": 78,
   "id": "301b17c8-579b-4d1e-a3fa-c4f33d39784e",
   "metadata": {
    "tags": []
   },
   "outputs": [
    {
     "data": {
      "text/plain": [
       "{'Riyadh': 'Warm', 'Moscow': 'Cool', 'Chicago': 'Cool', 'India': 'Warm'}"
      ]
     },
     "execution_count": 78,
     "metadata": {},
     "output_type": "execute_result"
    }
   ],
   "source": [
    "# dictionary comprehension 2\n",
    "weather = {key: ('Warm' if value>=30 else 'Cool') for key, value in temp_C.items()}\n",
    "weather"
   ]
  },
  {
   "cell_type": "code",
   "execution_count": 79,
   "id": "19ecf4ab-0f8f-4838-8b55-987fd5727a82",
   "metadata": {
    "tags": []
   },
   "outputs": [],
   "source": [
    "def check_temp(value):\n",
    "    if value>35:\n",
    "        return \"Hot\"\n",
    "    elif value>25:\n",
    "        return \"Warm\"\n",
    "    elif value>10:\n",
    "        return \"Cold\"\n",
    "    else:\n",
    "        return \"Very Cold\""
   ]
  },
  {
   "cell_type": "code",
   "execution_count": 80,
   "id": "19eaa905-b5ed-41bd-982e-e75e9d14e064",
   "metadata": {
    "tags": []
   },
   "outputs": [
    {
     "data": {
      "text/plain": [
       "{'Riyadh': 'Hot', 'Moscow': 'Very Cold', 'Chicago': 'Cold', 'India': 'Warm'}"
      ]
     },
     "execution_count": 80,
     "metadata": {},
     "output_type": "execute_result"
    }
   ],
   "source": [
    "# dictionary comprehension 3\n",
    "weather_detailed = {key: check_temp(value) for key, value in temp_C.items()}\n",
    "weather_detailed"
   ]
  },
  {
   "cell_type": "markdown",
   "id": "e08736de-6cbc-4e92-bc38-5c36fb2c5ea1",
   "metadata": {},
   "source": [
    "---"
   ]
  },
  {
   "cell_type": "markdown",
   "id": "554212c1-a119-496e-9512-90921d3c0f32",
   "metadata": {},
   "source": [
    "### Set\n",
    "\n",
    "- Unordered\n",
    "- Mutable\n",
    "- Can not contain duplicates"
   ]
  },
  {
   "cell_type": "code",
   "execution_count": 69,
   "id": "2da1dd54-30ca-4a4f-aead-77f8f7257bc5",
   "metadata": {
    "tags": []
   },
   "outputs": [],
   "source": [
    "fruits = {'apple', 'banana', 'orange', 'strawberry', 'mango', 'kiwi', 'apple', 'rambutan'}"
   ]
  },
  {
   "cell_type": "code",
   "execution_count": 71,
   "id": "3f5c2f3a-14b4-40d0-80e7-aff4ed285d78",
   "metadata": {
    "tags": []
   },
   "outputs": [],
   "source": [
    "frootz = {'apple', 'mango', 'cherry'}"
   ]
  },
  {
   "cell_type": "code",
   "execution_count": 73,
   "id": "1b576cf9-adb9-4495-a861-3974b4b358a0",
   "metadata": {
    "tags": []
   },
   "outputs": [
    {
     "data": {
      "text/plain": [
       "{'apple', 'banana', 'kiwi', 'mango', 'pineapple', 'rambutan'}"
      ]
     },
     "execution_count": 73,
     "metadata": {},
     "output_type": "execute_result"
    }
   ],
   "source": [
    "len(fruits)\n",
    "fruits.add('pineapple')  # adds in an alphabetical order\n",
    "fruits.pop() \n",
    "fruits.remove('orange')\n",
    "fruits"
   ]
  },
  {
   "cell_type": "code",
   "execution_count": 75,
   "id": "dc6821b0-e40a-4e68-812e-9c401f8427ad",
   "metadata": {
    "tags": []
   },
   "outputs": [
    {
     "name": "stdout",
     "output_type": "stream",
     "text": [
      "{'apple', 'mango'}\n",
      "{'cherry', 'banana', 'rambutan', 'mango', 'kiwi', 'apple', 'pineapple'}\n",
      "False\n"
     ]
    }
   ],
   "source": [
    "# mathematical set operations\n",
    "print(fruits.intersection(frootz))\n",
    "print(fruits.union(frootz))\n",
    "print(fruits.issubset(frootz))"
   ]
  },
  {
   "cell_type": "code",
   "execution_count": 67,
   "id": "8f4fdb56-dbee-4479-9b4c-2c58e47f094b",
   "metadata": {
    "tags": []
   },
   "outputs": [
    {
     "name": "stdout",
     "output_type": "stream",
     "text": [
      "mango\n",
      "banana\n",
      "pineapple\n",
      "apple\n"
     ]
    }
   ],
   "source": [
    "for fruit in fruits:\n",
    "    print(fruit)"
   ]
  },
  {
   "cell_type": "code",
   "execution_count": 68,
   "id": "8206310d-bec3-4c60-a8c7-7fe3cc15ef23",
   "metadata": {
    "tags": []
   },
   "outputs": [
    {
     "data": {
      "text/plain": [
       "True"
      ]
     },
     "execution_count": 68,
     "metadata": {},
     "output_type": "execute_result"
    }
   ],
   "source": [
    "# membership operator\n",
    "'apple' in fruits"
   ]
  },
  {
   "cell_type": "markdown",
   "id": "a531a84c-fbfb-4bb9-985d-1a25d3a6b22c",
   "metadata": {},
   "source": [
    "---"
   ]
  }
 ],
 "metadata": {
  "kernelspec": {
   "display_name": "Python 3 (ipykernel)",
   "language": "python",
   "name": "python3"
  },
  "language_info": {
   "codemirror_mode": {
    "name": "ipython",
    "version": 3
   },
   "file_extension": ".py",
   "mimetype": "text/x-python",
   "name": "python",
   "nbconvert_exporter": "python",
   "pygments_lexer": "ipython3",
   "version": "3.11.7"
  }
 },
 "nbformat": 4,
 "nbformat_minor": 5
}
