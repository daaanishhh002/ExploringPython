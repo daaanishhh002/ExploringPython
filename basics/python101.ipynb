{
 "cells": [
  {
   "cell_type": "markdown",
   "id": "5756c0ce-aa59-4a1b-920d-025bd75f6b4b",
   "metadata": {
    "tags": []
   },
   "source": [
    "# Python\n",
    "\n",
    "**Python** is a high-level, versatile and popular programming language known for its simplicity and readability. Python was created in the late 1980s by Guido van Rossum, a Dutch programmer. It was developed as a successor to the ABC language and was designed with the goal of being a readable, easy-to-use language with a clear and straightforward syntax. Python's first official release, Python 0.9.0, was made available in February 1991. Over the years, it has evolved into a powerful and popular language."
   ]
  },
  {
   "cell_type": "markdown",
   "id": "c97be491-bf4d-47fe-815b-3930720822f0",
   "metadata": {},
   "source": [
    "---"
   ]
  },
  {
   "cell_type": "markdown",
   "id": "c64519c3-b8e0-4ab4-85a6-ad8d11dc57ef",
   "metadata": {},
   "source": [
    "### Features of Python\n",
    "\n",
    "1. **Readability:** Python's syntax is easy to read and write, making it accessible for beginners. It uses indentation to define code blocks, which enforces clean and consistent coding practices.\n",
    "\n",
    "2. **Versatility:** Python is a general-purpose language, suitable for a wide range of applications, from web development and data analysis to artificial intelligence and scientific computing.\n",
    "\n",
    "3. **Extensive Standard Library:** Python comes with a vast standard library that provides modules and functions for various tasks, reducing the need for writing code from scratch.\n",
    "\n",
    "4. **Interpreted Language:** Python is an interpreted language, which means you can run code line by line, making it great for prototyping and debugging.\n",
    "\n",
    "5. **Dynamic Typing:** Python is dynamically typed, which means you don't need to specify variable types explicitly. This enhances flexibility and simplifies coding.\n",
    "\n",
    "6. **Community Support:** Python has a large and active community, which means there are numerous resources, libraries, and frameworks available for developers.\n",
    "\n",
    "7. **High-level Language:** Python abstracts many low-level details, making it more accessible and reducing the time needed to develop applications."
   ]
  },
  {
   "cell_type": "markdown",
   "id": "3f331cf6-33e7-4766-a007-c2ba1967c278",
   "metadata": {},
   "source": [
    "### What Sets Python Apart\n",
    "\n",
    "1. **Readability and Minimalistic Syntax:** Python's code is highly readable, with an emphasis on simplicity and minimizing code verbosity. This sets it apart from languages with complex syntax.\n",
    "\n",
    "2. **Cross-Platform Compatibility:** Python is compatible with various platforms, which makes it a versatile choice for multi-platform development.\n",
    "\n",
    "3. **Extensive Ecosystem:** Python has a rich ecosystem of libraries and frameworks, particularly in the fields of data science and machine learning. Libraries like NumPy, Pandas, and TensorFlow are widely used."
   ]
  },
  {
   "cell_type": "markdown",
   "id": "620f8745-7436-4c58-84e4-a8d83bc3d487",
   "metadata": {},
   "source": [
    "### Applications of Python\n",
    "\n",
    "1. **Web Development:** Frameworks like Django and Flask make it easy to build web applications.\n",
    "\n",
    "2. **Data Science:** Python is the go-to language for data analysis, with libraries such as Pandas, NumPy, and scikit-learn.\n",
    "\n",
    "3. **Machine Learning and AI:** Python offers powerful tools like TensorFlow, PyTorch, and scikit-learn for creating machine learning models.\n",
    "\n",
    "4. **Scientific Computing:** Python is widely used in scientific research, especially in fields like astronomy and biomedical sciences, thanks to libraries like SciPy.\n",
    "\n",
    "5. **Quantum Physics:** Python is used for simulating quantum systems and analyzing experimental data in quantum physics research.\n"
   ]
  },
  {
   "cell_type": "markdown",
   "id": "70c5c786-60e5-472b-8687-db506311e26c",
   "metadata": {},
   "source": [
    "---"
   ]
  },
  {
   "cell_type": "markdown",
   "id": "6d7c01ef-c380-4e0e-ae47-38bc82164763",
   "metadata": {
    "tags": []
   },
   "source": [
    "# Python I\n",
    "\n",
    "0. `\"hello, world\"` $\\longleftarrow$\n",
    "1. Variables and Data-Types $\\longleftarrow$\n",
    "2. Input and Output $\\longleftarrow$\n",
    "3. Operators $\\longleftarrow$\n",
    "4. Conditional Statements $\\longleftarrow$\n",
    "5. Loop Statements  $\\longleftarrow$\n",
    "6. String Methods\n",
    "7. Functions I\n",
    "8. Advanced Data-Types"
   ]
  },
  {
   "cell_type": "code",
   "execution_count": 1,
   "id": "369c2c1b-6662-4873-8d53-134b97414bcd",
   "metadata": {
    "tags": []
   },
   "outputs": [
    {
     "name": "stdout",
     "output_type": "stream",
     "text": [
      "hello, world\n"
     ]
    }
   ],
   "source": [
    "print(\"hello, world\")"
   ]
  },
  {
   "cell_type": "code",
   "execution_count": 2,
   "id": "d0ec0af9-188c-4a4f-8b71-0d8fdf500cef",
   "metadata": {},
   "outputs": [
    {
     "name": "stdout",
     "output_type": "stream",
     "text": [
      "3.11.5 | packaged by Anaconda, Inc. | (main, Sep 11 2023, 13:26:23) [MSC v.1916 64 bit (AMD64)]\n"
     ]
    }
   ],
   "source": [
    "import sys\n",
    "print(sys.version)"
   ]
  },
  {
   "cell_type": "markdown",
   "id": "1c5e82df-ce21-4135-9aae-90258d9b7925",
   "metadata": {},
   "source": [
    "---"
   ]
  },
  {
   "cell_type": "markdown",
   "id": "140e9f1a-e64c-432b-adfe-084ccc28154d",
   "metadata": {},
   "source": [
    "## Variables and Data-Types\n",
    "\n",
    "**Variables** are used to store information to be referenced and manipulated in a computer program. They also provide a way of labeling data with a descriptive name, so our programs can be understood more clearly by the reader and ourselves.\n",
    "\n",
    "**Data-Type** refers to the type of value a variable has and what type of mathematical, relational or logical operations can be applied without causing an error."
   ]
  },
  {
   "cell_type": "code",
   "execution_count": 3,
   "id": "3fe0dead-5fec-4d34-bcb5-2ae51e782db4",
   "metadata": {
    "tags": []
   },
   "outputs": [],
   "source": [
    "# int\n",
    "age = 21\n",
    "temp_f = -32\n",
    "\n",
    "# float\n",
    "weight = 63.5\n",
    "mass_electron = 9.1093837e-31\n",
    "\n",
    "# string\n",
    "company_name = 'pyromancer'\n",
    "sentence = \"The five boxing wizards jump quickly.\"\n",
    "\n",
    "# boolean\n",
    "isAged, hasLegs = False, True  # multiple assignment"
   ]
  },
  {
   "cell_type": "code",
   "execution_count": 4,
   "id": "a91ac960-d4de-450a-9ffa-973ed4620849",
   "metadata": {
    "tags": []
   },
   "outputs": [
    {
     "data": {
      "text/plain": [
       "float"
      ]
     },
     "execution_count": 4,
     "metadata": {},
     "output_type": "execute_result"
    }
   ],
   "source": [
    "# check data-type of any object/variable\n",
    "type(mass_electron)"
   ]
  },
  {
   "cell_type": "markdown",
   "id": "71a1b69e-5d90-4071-80c1-1970691a861c",
   "metadata": {},
   "source": [
    "**Note:** `None` is also a data-type in python that stores and returns None value i.e. **nothing**. It is similar to `void` keyword in other languages."
   ]
  },
  {
   "cell_type": "markdown",
   "id": "62808406-eaf4-4524-9a11-6d8f219ed640",
   "metadata": {},
   "source": [
    "**Note:** The process by which we can convert a variable of a data-type into another data-type is called **type-casting**. It can be done either explicity or implicitly."
   ]
  },
  {
   "cell_type": "markdown",
   "id": "b6e3e054-b98f-4298-8a6a-e30044ae330d",
   "metadata": {},
   "source": [
    "---"
   ]
  },
  {
   "cell_type": "markdown",
   "id": "15e804ea-933b-4f82-a915-a2db704a6c9c",
   "metadata": {},
   "source": [
    "## Input and Output"
   ]
  },
  {
   "cell_type": "code",
   "execution_count": 5,
   "id": "e13f8578-7e9e-41de-a7f3-ab6c65a92570",
   "metadata": {
    "tags": []
   },
   "outputs": [
    {
     "name": "stdout",
     "output_type": "stream",
     "text": [
      "What is your name? Danish\n",
      "Where are you from? Hyderabad\n",
      "Hello Danish from Hyderabad!\n"
     ]
    }
   ],
   "source": [
    "# taking input\n",
    "name = input(\"What is your name?\")\n",
    "city = input(\"Where are you from?\")\n",
    "\n",
    "# giving output\n",
    "print(f\"Hello {name} from {city}!\")  # f-strings"
   ]
  },
  {
   "cell_type": "markdown",
   "id": "a5d4e69f-c2f2-4f91-8a40-c773c340bbed",
   "metadata": {},
   "source": [
    "**Note:** There are other methods in python to output data, but **f-strings** are by-far the best and most powerful implementation to do it."
   ]
  },
  {
   "cell_type": "markdown",
   "id": "efcf7983-230d-4aae-95b4-3c605af531ca",
   "metadata": {},
   "source": [
    "---"
   ]
  },
  {
   "cell_type": "markdown",
   "id": "49f86515-d8dc-4f23-aa47-650b53477470",
   "metadata": {},
   "source": [
    "## Operators\n",
    "\n",
    "1. Arithemetic\n",
    "2. Assignment\n",
    "3. Comparision\n",
    "4. Logical\n",
    "5. Bitwise\n",
    "6. Membership\n",
    "7. Identity"
   ]
  },
  {
   "cell_type": "code",
   "execution_count": 29,
   "id": "dcb9ef11-6ae8-4e3e-8887-df941a96e7b8",
   "metadata": {
    "tags": []
   },
   "outputs": [
    {
     "name": "stdout",
     "output_type": "stream",
     "text": [
      "14\n",
      "-393\n",
      "728\n",
      "1.2837837837837838\n"
     ]
    }
   ],
   "source": [
    "# arithmetic operators 1\n",
    "print(5+9)     # add\n",
    "print(96-489)  # subtract\n",
    "\n",
    "print(52*14)   # multiply\n",
    "print(95/74)   # divide"
   ]
  },
  {
   "cell_type": "code",
   "execution_count": 31,
   "id": "29379698-9ce0-4f12-a253-8bcc34ac9e23",
   "metadata": {
    "tags": []
   },
   "outputs": [
    {
     "name": "stdout",
     "output_type": "stream",
     "text": [
      "1728\n",
      "3\n",
      "2\n"
     ]
    }
   ],
   "source": [
    "# arithmetic operators 2\n",
    "print(12**3)   # power\n",
    "\n",
    "print(18%5)    # modulo\n",
    "print(18//8)   # quotient"
   ]
  },
  {
   "cell_type": "code",
   "execution_count": 8,
   "id": "0653b6b2-4f75-497c-afb4-49e2a54e9ddc",
   "metadata": {
    "tags": []
   },
   "outputs": [
    {
     "data": {
      "text/plain": [
       "102"
      ]
     },
     "execution_count": 8,
     "metadata": {},
     "output_type": "execute_result"
    }
   ],
   "source": [
    "# assignment operator\n",
    "iterator = 62\n",
    "iterator += 40\n",
    "iterator"
   ]
  },
  {
   "cell_type": "markdown",
   "id": "e03b5096-44a0-47e2-8561-879dcf747092",
   "metadata": {},
   "source": [
    "**Note:** Assignment operator isn't just limited to addition, it can do many such operations."
   ]
  },
  {
   "cell_type": "code",
   "execution_count": 24,
   "id": "14d171f0-dcae-49b6-92e7-ee5d000f9e88",
   "metadata": {
    "tags": []
   },
   "outputs": [
    {
     "name": "stdout",
     "output_type": "stream",
     "text": [
      "False\n",
      "True\n",
      "True\n"
     ]
    }
   ],
   "source": [
    "# comparision operators\n",
    "print(95 <= 62)\n",
    "print(100 >= 100)\n",
    "print(62 != 26)"
   ]
  },
  {
   "cell_type": "code",
   "execution_count": 20,
   "id": "9cee1439-0b81-4c91-b7ce-9ed79b1f11fc",
   "metadata": {
    "tags": []
   },
   "outputs": [
    {
     "name": "stdout",
     "output_type": "stream",
     "text": [
      "False\n",
      "True\n",
      "True\n"
     ]
    }
   ],
   "source": [
    "# logical operators\n",
    "print(True and False)\n",
    "print(True or False)\n",
    "print(not False)"
   ]
  },
  {
   "cell_type": "code",
   "execution_count": 39,
   "id": "bb8d0745-d436-4578-87da-6a8ce067ead4",
   "metadata": {
    "tags": []
   },
   "outputs": [
    {
     "name": "stdout",
     "output_type": "stream",
     "text": [
      "4\n",
      "47\n",
      "-77\n",
      "7\n",
      "92\n",
      "23\n"
     ]
    }
   ],
   "source": [
    "# bitwise operators\n",
    "print(52&12)  # bitwise AND\n",
    "print(46|5)   # bitwise OR\n",
    "print(~76)    # bitwise NOT\n",
    "print(12^11)  # bitwise XOR\n",
    "\n",
    "print(46<<1)  # bitwise left-shift\n",
    "print(46>>1)  # bitwise right-shift"
   ]
  },
  {
   "cell_type": "code",
   "execution_count": 29,
   "id": "7f58ee58-7748-4918-b917-c289d5721d4c",
   "metadata": {
    "tags": []
   },
   "outputs": [
    {
     "data": {
      "text/plain": [
       "False"
      ]
     },
     "execution_count": 29,
     "metadata": {},
     "output_type": "execute_result"
    }
   ],
   "source": [
    "# membership operators\n",
    "'s' in 'apples'\n",
    "'q' not in 'quinn'"
   ]
  },
  {
   "cell_type": "code",
   "execution_count": 48,
   "id": "de0b39f0-5d3d-488b-aa62-69f248b2af7e",
   "metadata": {
    "tags": []
   },
   "outputs": [
    {
     "name": "stdout",
     "output_type": "stream",
     "text": [
      "False\n",
      "False\n",
      "True\n",
      "False\n"
     ]
    }
   ],
   "source": [
    "# identity operators\n",
    "a = [1,2,3]\n",
    "b = a[:]\n",
    "c = a\n",
    "d = [1,2,3]\n",
    "\n",
    "print(a is b)\n",
    "print(b is c)\n",
    "print(c is a)\n",
    "print(a is d)"
   ]
  },
  {
   "cell_type": "markdown",
   "id": "97a32253-cc10-42d3-87fa-ba6d87d5ba46",
   "metadata": {},
   "source": [
    "**Note:** `is` operator checks for object identity, whereas `==` operator checks for value equality."
   ]
  },
  {
   "cell_type": "code",
   "execution_count": 58,
   "id": "62ce8038-b861-4e78-9773-5e7f067bdaf4",
   "metadata": {
    "tags": []
   },
   "outputs": [
    {
     "name": "stdout",
     "output_type": "stream",
     "text": [
      "Memory address of a: 3185974725056\n",
      "Memory address of b: 3185974730176\n",
      "Memory address of c: 3185974725056\n",
      "Memory address of d: 3185974729216\n"
     ]
    }
   ],
   "source": [
    "print(\"Memory address of a:\", id(a))\n",
    "print(\"Memory address of b:\", id(b))\n",
    "print(\"Memory address of c:\", id(c))\n",
    "print(\"Memory address of d:\", id(d))"
   ]
  },
  {
   "cell_type": "markdown",
   "id": "f4c79e04-aa6a-4e40-8b69-720c418333b0",
   "metadata": {},
   "source": [
    "---"
   ]
  },
  {
   "cell_type": "markdown",
   "id": "7a245d35-562a-4aa4-ba5b-75907d8669a8",
   "metadata": {},
   "source": [
    "## Selection Control Structure (Branching)\n",
    "\n",
    "The selection control structure allows one set of statements to be executed if a condition is true and another set of actions to be executed if a condition is false."
   ]
  },
  {
   "cell_type": "code",
   "execution_count": 66,
   "id": "5c3529a7-ea5d-43c4-91f1-a7e73aec0855",
   "metadata": {
    "tags": []
   },
   "outputs": [
    {
     "name": "stdout",
     "output_type": "stream",
     "text": [
      "Enter age:  65\n",
      "Boomer\n",
      "As I was saying\n"
     ]
    }
   ],
   "source": [
    "# if statement\n",
    "age = int(input(\"Enter age: \"))\n",
    "\n",
    "if age >= 65:\n",
    "    print('Boomer')\n",
    "\n",
    "print(\"As I was saying\")"
   ]
  },
  {
   "cell_type": "code",
   "execution_count": 70,
   "id": "198c8806-da9d-464a-9982-2d92cb63996d",
   "metadata": {
    "tags": []
   },
   "outputs": [
    {
     "name": "stdout",
     "output_type": "stream",
     "text": [
      "Enter age:  20\n",
      "Young man\n",
      "As I was saying\n"
     ]
    }
   ],
   "source": [
    "# if-else statement\n",
    "age = int(input(\"Enter age: \"))\n",
    "\n",
    "if age >= 65:\n",
    "    print('Boomer')\n",
    "else:\n",
    "    print('Young man')\n",
    "\n",
    "print(\"As I was saying\")"
   ]
  },
  {
   "cell_type": "code",
   "execution_count": 14,
   "id": "4774a4fe-b5a1-4cfc-81db-80e4837c32f6",
   "metadata": {},
   "outputs": [
    {
     "name": "stdout",
     "output_type": "stream",
     "text": [
      "Enter your yearly compensation:  5648854418\n",
      "You have to pay 1,694,656,325.40 in taxes.\n"
     ]
    }
   ],
   "source": [
    "# if-elif-else statements\n",
    "yearly_compensation = int(input(\"Enter your yearly compensation: \"))\n",
    "\n",
    "if yearly_compensation > 1_500_000:\n",
    "    print(f\"You have to pay {yearly_compensation*0.3:,.2f} in taxes.\")\n",
    "    \n",
    "elif yearly_compensation > 1_250_000:\n",
    "    print(f\"You have to pay {yearly_compensation*0.25:,.2f} in taxes.\")\n",
    "    \n",
    "elif yearly_compensation > 1_000_000:\n",
    "    print(f\"You have to pay {yearly_compensation*0.2:,.2f} in taxes.\")\n",
    "    \n",
    "elif yearly_compensation > 750_000:\n",
    "    print(f\"You have to pay {yearly_compensation*0.15:,.2f} in taxes.\")\n",
    "    \n",
    "elif yearly_compensation > 500_000:\n",
    "    print(f\"You have to pay {yearly_compensation*0.1:,.2f} in taxes.\")\n",
    "    \n",
    "elif yearly_compensation > 250_000:\n",
    "    print(f\"You have to pay {yearly_compensation*0.05:,.2f} in taxes.\")\n",
    "    \n",
    "else:\n",
    "    print(f\"You have to pay {yearly_compensation:,.2f} in taxes.\")"
   ]
  },
  {
   "cell_type": "markdown",
   "id": "1d2592e1-534b-4a68-a0c5-3def0e0dee45",
   "metadata": {},
   "source": [
    "**Note:** An `if` statement when evalued to `True`, after completing the action breaks out of the current conditional block. But if there are multiple `if` statements, then the implementation doesn't break until after all the `if` statements are evaluated. The same doesn't apply to `elif` and `else`."
   ]
  },
  {
   "cell_type": "code",
   "execution_count": 15,
   "id": "dab2d338-5c1d-4882-ba9d-94be56522e29",
   "metadata": {
    "tags": []
   },
   "outputs": [
    {
     "name": "stdout",
     "output_type": "stream",
     "text": [
      "Enter your age:  21\n",
      "You are permitted to drink.\n",
      "You are allowed to vote.\n"
     ]
    }
   ],
   "source": [
    "# multiple if statements\n",
    "age = int(input(\"Enter your age: \"))\n",
    "\n",
    "if age >= 60:\n",
    "    print(\"You are eligble for pension.\")\n",
    "    \n",
    "if age >= 21:\n",
    "    print(\"You are permitted to drink.\")\n",
    "    \n",
    "if age >= 18:\n",
    "    print(\"You are allowed to vote.\")\n",
    "    \n",
    "else:\n",
    "    print(\"You can't do much, go and study.\")"
   ]
  },
  {
   "cell_type": "code",
   "execution_count": 45,
   "id": "623cae02-4cfa-4c37-8342-8222956e48fd",
   "metadata": {
    "tags": []
   },
   "outputs": [
    {
     "name": "stdout",
     "output_type": "stream",
     "text": [
      "Enter a number:  63\n",
      "Enter another number:  2\n",
      "Enter a symbol '+, -, *, /, **, %, // ':  //\n",
      "31\n"
     ]
    }
   ],
   "source": [
    "# match case statement\n",
    "num1 = int(input(\"Enter a number: \"))\n",
    "num2 = int(input(\"Enter another number: \"))\n",
    "operator = input(\"Enter a symbol \\' +, -, *, /, **, %, // \\': \")\n",
    "\n",
    "match operator:\n",
    "    case '+': print(f\"{num1+num2}\")\n",
    "    case '-': print(f\"{num1-num2}\")    \n",
    "    case '*': print(f\"{num1*num2}\")    \n",
    "    case '/': print(f\"{num1/num2}\")\n",
    "    case '**': print(f\"{num1**num2}\")\n",
    "    case '%': print(f\"{num1%num2}\")    \n",
    "    case '//': print(f\"{num1//num2}\")    \n",
    "    case _: print(\"Invalid Operator!\")  # this is the default case"
   ]
  },
  {
   "cell_type": "markdown",
   "id": "1eb9e73c-c79a-400c-8cd6-f33a571f51bf",
   "metadata": {},
   "source": [
    "---"
   ]
  },
  {
   "cell_type": "markdown",
   "id": "83c3c6cd-7b30-4dc9-891e-b7b3777a1337",
   "metadata": {},
   "source": [
    "**Exercise:** Write a program that checks if a given year is a leap year or not."
   ]
  },
  {
   "cell_type": "code",
   "execution_count": 65,
   "id": "f9e57ac7-3097-4f42-ba8f-1b6cf51283c6",
   "metadata": {
    "tags": []
   },
   "outputs": [
    {
     "name": "stdout",
     "output_type": "stream",
     "text": [
      "Enter year:  1912\n",
      "1912 is a leap year.\n"
     ]
    }
   ],
   "source": [
    "year = int(input(\"Enter year: \"))\n",
    "\n",
    "if year%4==0 and year%100!=0 or year%400==0:\n",
    "    print(f\"{year} is a leap year.\")\n",
    "    \n",
    "else:\n",
    "    print(f\"{year} is not a leap year.\")"
   ]
  },
  {
   "cell_type": "markdown",
   "id": "41cef741-8755-4397-8bad-681762954eca",
   "metadata": {},
   "source": [
    "---"
   ]
  },
  {
   "cell_type": "markdown",
   "id": "4a7e0c47-5820-4453-af2f-093eb59e9da3",
   "metadata": {},
   "source": [
    "## Repetitive Control Structure (Looping)\n",
    "\n",
    "Repetitive Control Structure are groupings of code which are designed to repeat a set of statements."
   ]
  },
  {
   "cell_type": "code",
   "execution_count": 78,
   "id": "664f84c7-df70-4a8d-b000-325a9fef2222",
   "metadata": {
    "tags": []
   },
   "outputs": [
    {
     "name": "stdout",
     "output_type": "stream",
     "text": [
      "Enter p to play or q to quit:  p\n",
      "You are still in the game.\n",
      "Enter p to play or q to quit:  p\n",
      "You are still in the game.\n",
      "Enter p to play or q to quit:  q\n",
      "You have quit the game.\n"
     ]
    }
   ],
   "source": [
    "# while loop\n",
    "action = input(\"Enter p to play or q to quit: \")\n",
    "\n",
    "while action!='q':\n",
    "    print(\"You are still in the game.\")\n",
    "    action = input(\"Enter p to play or q to quit: \")\n",
    "\n",
    "print(\"You have quit the game.\")"
   ]
  },
  {
   "cell_type": "markdown",
   "id": "44caa312-8c59-40b7-b838-7ffc31a4bdf4",
   "metadata": {},
   "source": [
    "**Note:** The above is called an **Infinite Loop** as it evaluates to `True` until provided otherwise."
   ]
  },
  {
   "cell_type": "code",
   "execution_count": 19,
   "id": "68d34101-4c3e-49cd-92e4-8d438988a61d",
   "metadata": {
    "tags": []
   },
   "outputs": [
    {
     "name": "stdout",
     "output_type": "stream",
     "text": [
      "5 4 3 2 1 0 a l p h a - g o "
     ]
    }
   ],
   "source": [
    "# for loop\n",
    "for i in reversed(range(6)):\n",
    "    print(i, end=' ')\n",
    "\n",
    "for i in \"alpha-go\":\n",
    "    print(i, end=' ')"
   ]
  },
  {
   "cell_type": "code",
   "execution_count": 62,
   "id": "47d21003-820a-422a-86c4-0289a91ea87d",
   "metadata": {
    "tags": []
   },
   "outputs": [
    {
     "name": "stdout",
     "output_type": "stream",
     "text": [
      "1 3 4 helo 6 7 "
     ]
    }
   ],
   "source": [
    "# break, pass and continue keywords\n",
    "for i in range(1,11):\n",
    "    if i == 2:\n",
    "        continue  # skips over 2\n",
    "    elif i == 5:\n",
    "        pass      # doesn't do anything\n",
    "    elif i == 8:\n",
    "        break     # exits the loop when evaluated True\n",
    "    else:\n",
    "        print(i, end=' ')"
   ]
  },
  {
   "cell_type": "markdown",
   "id": "b82ae525-bcf8-4811-8456-403f3b6343d2",
   "metadata": {},
   "source": [
    "---"
   ]
  },
  {
   "cell_type": "markdown",
   "id": "66022cfe-0f36-464e-b38d-5376df75f1bf",
   "metadata": {},
   "source": [
    "**Exercise:** Check if a number is prime or not."
   ]
  },
  {
   "cell_type": "code",
   "execution_count": 108,
   "id": "c455387c-2f55-470a-901b-948076bf4cc0",
   "metadata": {
    "tags": []
   },
   "outputs": [
    {
     "name": "stdout",
     "output_type": "stream",
     "text": [
      "Enter a number:  545741\n",
      "545741 is not prime.\n"
     ]
    }
   ],
   "source": [
    "import math\n",
    "number = int(input(\"Enter a number: \"))\n",
    "\n",
    "for i in range(2,int(math.sqrt(number)+1)):\n",
    "    if number%i == 0:\n",
    "        print(f\"{number} is not prime.\")\n",
    "        break\n",
    "else:\n",
    "    if number == 1:\n",
    "        print(\"1 is neither prime nor composite.\")\n",
    "    else:\n",
    "        print(f\"{number} is prime.\")"
   ]
  },
  {
   "cell_type": "markdown",
   "id": "e406cd8b",
   "metadata": {},
   "source": [
    "**Note:** The `else` block is executed only if the `for` block doesn't encounter a `break` statement. "
   ]
  },
  {
   "cell_type": "markdown",
   "id": "86ec7099-033f-44d7-a618-10fe39748f73",
   "metadata": {},
   "source": [
    "---"
   ]
  }
 ],
 "metadata": {
  "kernelspec": {
   "display_name": "Python 3 (ipykernel)",
   "language": "python",
   "name": "python3"
  },
  "language_info": {
   "codemirror_mode": {
    "name": "ipython",
    "version": 3
   },
   "file_extension": ".py",
   "mimetype": "text/x-python",
   "name": "python",
   "nbconvert_exporter": "python",
   "pygments_lexer": "ipython3",
   "version": "3.11.7"
  }
 },
 "nbformat": 4,
 "nbformat_minor": 5
}
