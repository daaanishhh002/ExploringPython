{
 "cells": [
  {
   "cell_type": "markdown",
   "id": "0cb86c23-bd54-40d0-b1c6-73f36b1ccdc2",
   "metadata": {
    "tags": []
   },
   "source": [
    "# Python I\n",
    "\n",
    "0. `\"hello, world\"`\n",
    "1. Variables and Datatypes\n",
    "2. Input and Output\n",
    "3. Operators\n",
    "4. Conditional Statements\n",
    "5. Loop Statements\n",
    "6. String Methods\n",
    "7. Functions I   $\\longleftarrow$\n",
    "8. Advanced Data-Types"
   ]
  },
  {
   "cell_type": "markdown",
   "id": "068f11c4-82e3-460f-b5fa-7f956737ceb6",
   "metadata": {},
   "source": [
    "---"
   ]
  },
  {
   "cell_type": "markdown",
   "id": "6a67d6c7-7157-4380-b9ad-a5dd3f7a920a",
   "metadata": {},
   "source": [
    "## String Methods\n",
    "\n",
    "String Methods are a set of built-in methods that you can use on strings for data handling and manipulation."
   ]
  },
  {
   "cell_type": "code",
   "execution_count": 1,
   "id": "315c66ab-7a1d-46cb-a78e-20cd42a1b373",
   "metadata": {
    "tags": []
   },
   "outputs": [],
   "source": [
    "word1 = 'quagmire'\n",
    "word2 = 'peter'"
   ]
  },
  {
   "cell_type": "code",
   "execution_count": 3,
   "id": "1ca1d240-1d3a-4fb4-b51d-9f0f191e36cf",
   "metadata": {
    "tags": []
   },
   "outputs": [
    {
     "name": "stdout",
     "output_type": "stream",
     "text": [
      "quagmirepeter\n",
      "quagmirequagmirequagmire\n"
     ]
    }
   ],
   "source": [
    "print(word1+word2)\n",
    "print(word1*3)"
   ]
  },
  {
   "cell_type": "code",
   "execution_count": 17,
   "id": "1988d5e4-45df-4b67-8de5-72580b607e17",
   "metadata": {
    "tags": []
   },
   "outputs": [],
   "source": [
    "sentence = \"The quick brown fox jumps over the lazy dog 452 698 */%\""
   ]
  },
  {
   "cell_type": "code",
   "execution_count": 19,
   "id": "c0f29987-3904-41a3-ab28-a620de3e963d",
   "metadata": {
    "tags": []
   },
   "outputs": [
    {
     "name": "stdout",
     "output_type": "stream",
     "text": [
      "55\n",
      "12\n",
      "4\n",
      "The Quick Brown Fox Jumps Over The Lazy Dog 452 698 */%\n",
      "['Th', ' quick brown fox jumps ov', 'r th', ' lazy dog 452 698 */%']\n"
     ]
    },
    {
     "data": {
      "text/plain": [
       "'Thequickbrownfoxjumpsoverthelazydog452698*/%'"
      ]
     },
     "execution_count": 19,
     "metadata": {},
     "output_type": "execute_result"
    }
   ],
   "source": [
    "print(len(sentence))       # returns length of string\n",
    "\n",
    "print(sentence.find('o'))  # returns index of 1st occurance\n",
    "print(sentence.count('o'))\n",
    "print(sentence.title())\n",
    "print(sentence.split('e'))\n",
    "sentence = sentence.replace(' ', '')\n",
    "sentence"
   ]
  },
  {
   "cell_type": "code",
   "execution_count": 21,
   "id": "6ddeac4d-1e13-4fde-94a7-3dfaeecf4e89",
   "metadata": {
    "tags": []
   },
   "outputs": [
    {
     "name": "stdout",
     "output_type": "stream",
     "text": [
      "False\n",
      "True\n"
     ]
    }
   ],
   "source": [
    "print(sentence.isalnum())  # contains only alphanum\n",
    "print(sentence.isascii())  # contains only ascii"
   ]
  },
  {
   "cell_type": "markdown",
   "id": "32eefa77-29fb-4579-b435-c98638efd8b6",
   "metadata": {},
   "source": [
    "---"
   ]
  },
  {
   "cell_type": "markdown",
   "id": "5999e788-64f2-4e42-8b64-c48f25b11e66",
   "metadata": {},
   "source": [
    "**Exercise:** Write a program to check validity and strength of password."
   ]
  },
  {
   "cell_type": "code",
   "execution_count": 19,
   "id": "27a82d3a-4f3e-4ecb-a6e4-c77e0c2c23cb",
   "metadata": {
    "tags": []
   },
   "outputs": [
    {
     "name": "stdin",
     "output_type": "stream",
     "text": [
      "Enter password:  ooga booga\n"
     ]
    },
    {
     "name": "stdout",
     "output_type": "stream",
     "text": [
      "Invalid password\n"
     ]
    }
   ],
   "source": [
    "password = input(\"Enter password: \")\n",
    "\n",
    "if len(password)>=8 and len(password)<=20:\n",
    "    if password.isalnum():\n",
    "        print(\"Valid password\")\n",
    "    else:\n",
    "        print(\"Invalid password\")\n",
    "else:\n",
    "    print(\"Invalid password\")"
   ]
  },
  {
   "cell_type": "markdown",
   "id": "75d93c90-fc1f-4396-8b0c-4751ee101cc2",
   "metadata": {},
   "source": [
    "---"
   ]
  },
  {
   "cell_type": "code",
   "execution_count": 23,
   "id": "b25f55cf-a563-4bdc-b8a7-165d9e48c693",
   "metadata": {
    "tags": []
   },
   "outputs": [
    {
     "data": {
      "text/plain": [
       "'Thequickbrownfoxjumpsoverthelazydog452698*/%'"
      ]
     },
     "execution_count": 23,
     "metadata": {},
     "output_type": "execute_result"
    }
   ],
   "source": [
    "sentence"
   ]
  },
  {
   "cell_type": "code",
   "execution_count": 25,
   "id": "2b3bba2f-f131-4ff3-9b64-63e1f90ddd0b",
   "metadata": {
    "tags": []
   },
   "outputs": [
    {
     "data": {
      "text/plain": [
       "'2'"
      ]
     },
     "execution_count": 25,
     "metadata": {},
     "output_type": "execute_result"
    }
   ],
   "source": [
    "# indexing\n",
    "sentence[10]\n",
    "sentence[-7]"
   ]
  },
  {
   "cell_type": "code",
   "execution_count": 27,
   "id": "0f15f0da-f9c8-498b-ae22-ea892bda7384",
   "metadata": {
    "tags": []
   },
   "outputs": [
    {
     "data": {
      "text/plain": [
       "'ickbrownfoxjumpsoverthelazydog452698*/%'"
      ]
     },
     "execution_count": 27,
     "metadata": {},
     "output_type": "execute_result"
    }
   ],
   "source": [
    "# slicing 1\n",
    "sentence[:6]\n",
    "sentence[5:]"
   ]
  },
  {
   "cell_type": "code",
   "execution_count": 29,
   "id": "9673fbb0-439b-431e-9a34-05a13aa2554f",
   "metadata": {
    "tags": []
   },
   "outputs": [
    {
     "data": {
      "text/plain": [
       "'eibwousehad'"
      ]
     },
     "execution_count": 29,
     "metadata": {},
     "output_type": "execute_result"
    }
   ],
   "source": [
    "# slicing 2\n",
    "sentence[::2]\n",
    "sentence[::-1]\n",
    "\n",
    "sentence[2:35:3]"
   ]
  },
  {
   "cell_type": "markdown",
   "id": "2155e553-ae4f-495a-b597-3478e13805dc",
   "metadata": {},
   "source": [
    "---"
   ]
  },
  {
   "cell_type": "markdown",
   "id": "5749b97e-a3d9-4924-b60a-e3b62a7d4056",
   "metadata": {},
   "source": [
    "**Exercise:** Return the username and email provider of user after they enter their Email ID."
   ]
  },
  {
   "cell_type": "code",
   "execution_count": 26,
   "id": "dfdca6e5-c64d-44fb-af53-cb6959853b33",
   "metadata": {
    "tags": []
   },
   "outputs": [
    {
     "name": "stdin",
     "output_type": "stream",
     "text": [
      "Enter your email:  daaanishhh002@gmail.com\n"
     ]
    },
    {
     "name": "stdout",
     "output_type": "stream",
     "text": [
      "daaanishhh002 is your username and gmail is your email provider.\n"
     ]
    }
   ],
   "source": [
    "email_id = input(\"Enter your email: \")\n",
    "\n",
    "index = email_id.index('@')\n",
    "username = email_id[:index]\n",
    "domain = email_id[index+1:email_id.index('.')]\n",
    "\n",
    "print(f\"{username} is your username and {domain} is your email provider.\")"
   ]
  },
  {
   "cell_type": "markdown",
   "id": "6817502a-63c2-4452-b2c4-1861b52592bd",
   "metadata": {},
   "source": [
    "---"
   ]
  },
  {
   "cell_type": "markdown",
   "id": "5db7db87-fb82-46f9-b2e6-71c03296a41e",
   "metadata": {},
   "source": [
    "**Exercise:** Write a program that validates credit card number."
   ]
  },
  {
   "cell_type": "code",
   "execution_count": 31,
   "id": "f3c8bcc0-9bd9-4c0d-a555-ac95adfcc48d",
   "metadata": {
    "tags": []
   },
   "outputs": [
    {
     "name": "stdin",
     "output_type": "stream",
     "text": [
      "Enter credit card number:  534848415418451\n"
     ]
    },
    {
     "name": "stdout",
     "output_type": "stream",
     "text": [
      "It is not a valid credit card number.\n"
     ]
    }
   ],
   "source": [
    "cc_number = input(\"Enter credit card number: \")\n",
    "sum_odd_dig, sum_even_dig = 0,0\n",
    "\n",
    "cc_number = cc_number.replace(' ', '')\n",
    "cc_number = cc_number.replace('-', '')\n",
    "cc_number = cc_number[::-1]\n",
    "\n",
    "for i in cc_number[::2]:\n",
    "    sum_odd_dig += int(i)\n",
    "\n",
    "for i in cc_number[1::2]:\n",
    "    i = int(i) * 2\n",
    "    if i>=10:\n",
    "        sum_even_dig += (1+(i%10))\n",
    "    else:\n",
    "        sum_even_dig += i\n",
    "\n",
    "total = sum_even_dig + sum_odd_dig\n",
    "\n",
    "if total%10==0:\n",
    "    print(\"It is a valid credit card number.\")\n",
    "else:\n",
    "    print(\"It is not a valid credit card number.\")    "
   ]
  },
  {
   "cell_type": "markdown",
   "id": "8ba6f636-6519-475c-a445-4b2c3eb8a19b",
   "metadata": {},
   "source": [
    "Test with 4012888888881881 and 5105105105105100"
   ]
  },
  {
   "cell_type": "markdown",
   "id": "ae779d7f-41ca-4ede-8920-540612302d30",
   "metadata": {},
   "source": [
    "---"
   ]
  },
  {
   "cell_type": "code",
   "execution_count": 34,
   "id": "94919d91-dd55-42f5-9aef-f05229b19b24",
   "metadata": {
    "tags": []
   },
   "outputs": [],
   "source": [
    "price1 = 14565200.985\n",
    "price2 = -526.56235879\n",
    "price3 = 729.41"
   ]
  },
  {
   "cell_type": "code",
   "execution_count": 40,
   "id": "7209382d-edbb-4404-9690-9ff083a500d0",
   "metadata": {
    "tags": []
   },
   "outputs": [
    {
     "name": "stdout",
     "output_type": "stream",
     "text": [
      "Price is 14,565,200.985\n",
      "Price is -526.56\n",
      "Price is  729.41\n"
     ]
    }
   ],
   "source": [
    "# format specifier\n",
    "print(f\"Price is {price1:,}\")    # thousands separator\n",
    "print(f\"Price is {price2:.2f}\")  # decimal limiter\n",
    "print(f\"Price is {price3: }\")    # leaves space for sign"
   ]
  },
  {
   "cell_type": "markdown",
   "id": "eca6bb78-0557-466f-92c9-a41b116f44ba",
   "metadata": {},
   "source": [
    "---"
   ]
  },
  {
   "cell_type": "markdown",
   "id": "f6e1f6e9-4018-4d0b-8a1c-2fb29f70f0d4",
   "metadata": {},
   "source": [
    "## Functions I\n",
    "\n",
    "A function is a block of code, to which you can pass data, known as parameters, which in turn returns data as a result."
   ]
  },
  {
   "cell_type": "code",
   "execution_count": 34,
   "id": "83902d57-c513-4cea-8e76-b42425f390f7",
   "metadata": {
    "tags": []
   },
   "outputs": [],
   "source": [
    "def greet_ntimes(n):\n",
    "    for i in range(n):\n",
    "        print(\"G'Mornin\")"
   ]
  },
  {
   "cell_type": "code",
   "execution_count": 35,
   "id": "c7e7d429-5632-4bc7-9531-925f8755e722",
   "metadata": {
    "tags": []
   },
   "outputs": [
    {
     "name": "stdout",
     "output_type": "stream",
     "text": [
      "G'Mornin\n",
      "G'Mornin\n",
      "G'Mornin\n"
     ]
    }
   ],
   "source": [
    "greet_ntimes(3)"
   ]
  },
  {
   "cell_type": "markdown",
   "id": "b2e5b760-c4f6-4a04-8afa-9d22ea594ab8",
   "metadata": {},
   "source": [
    "---"
   ]
  },
  {
   "cell_type": "markdown",
   "id": "7871e58a-611e-4012-b5e7-eed9f5d69ab5",
   "metadata": {},
   "source": [
    "**Exercise:** Write a program that returns the factorial of a given number."
   ]
  },
  {
   "cell_type": "code",
   "execution_count": 36,
   "id": "d0bc0401-8a52-4623-955b-59d4ab2d31e3",
   "metadata": {
    "tags": []
   },
   "outputs": [],
   "source": [
    "def factorial(n):\n",
    "    total = 1\n",
    "    for i in range(2,n+1):\n",
    "        total *= i\n",
    "    \n",
    "    return total"
   ]
  },
  {
   "cell_type": "code",
   "execution_count": 37,
   "id": "b475a155-3639-4032-95b2-d6da60b5ac4b",
   "metadata": {
    "tags": []
   },
   "outputs": [
    {
     "data": {
      "text/plain": [
       "3628800"
      ]
     },
     "execution_count": 37,
     "metadata": {},
     "output_type": "execute_result"
    }
   ],
   "source": [
    "factorial(10)"
   ]
  },
  {
   "cell_type": "markdown",
   "id": "43bf2d5d-5220-47a1-9102-0f83ea0fa1bb",
   "metadata": {},
   "source": [
    "---"
   ]
  },
  {
   "cell_type": "code",
   "execution_count": 46,
   "id": "240eacaa-ba91-409c-a778-ab9dca7b314b",
   "metadata": {
    "tags": []
   },
   "outputs": [],
   "source": [
    "# positional arguments\n",
    "def net_price(list_price, discnt, tax):\n",
    "    return f'{list_price * (1-discnt) * (1+tax):.3f}'"
   ]
  },
  {
   "cell_type": "code",
   "execution_count": 48,
   "id": "acbad30a-76c5-43c8-ba5c-626260ef5eb9",
   "metadata": {
    "tags": []
   },
   "outputs": [
    {
     "data": {
      "text/plain": [
       "'1383.750'"
      ]
     },
     "execution_count": 48,
     "metadata": {},
     "output_type": "execute_result"
    }
   ],
   "source": [
    "net_price(1500, 0.1, 0.025)"
   ]
  },
  {
   "cell_type": "code",
   "execution_count": 50,
   "id": "2b785813-9ebf-456f-8363-1b3df27a385a",
   "metadata": {
    "tags": []
   },
   "outputs": [
    {
     "data": {
      "text/plain": [
       "'1608.750'"
      ]
     },
     "execution_count": 50,
     "metadata": {},
     "output_type": "execute_result"
    }
   ],
   "source": [
    "net_price(1500, 0.025, 0.1)"
   ]
  },
  {
   "cell_type": "code",
   "execution_count": 40,
   "id": "137d8cba-b149-47f5-8d67-d1ae4a68059f",
   "metadata": {
    "tags": []
   },
   "outputs": [],
   "source": [
    "# default arguments\n",
    "def net_price(list_price, discnt=0.0, tax=0.025):\n",
    "    return list_price * (1-discnt) * (1+tax)"
   ]
  },
  {
   "cell_type": "markdown",
   "id": "33a4b684-56bc-476d-afa4-9a0330575065",
   "metadata": {},
   "source": [
    "**Note:** Default arguments should always succeed non-default arguments."
   ]
  },
  {
   "cell_type": "code",
   "execution_count": 41,
   "id": "3888aefb-b121-430e-bf20-56c371686871",
   "metadata": {
    "tags": []
   },
   "outputs": [
    {
     "data": {
      "text/plain": [
       "512.5"
      ]
     },
     "execution_count": 41,
     "metadata": {},
     "output_type": "execute_result"
    }
   ],
   "source": [
    "net_price(500)"
   ]
  },
  {
   "cell_type": "code",
   "execution_count": 42,
   "id": "c2ecf757-399c-47d3-bb91-ff3ce12e01fd",
   "metadata": {
    "tags": []
   },
   "outputs": [
    {
     "data": {
      "text/plain": [
       "450.0"
      ]
     },
     "execution_count": 42,
     "metadata": {},
     "output_type": "execute_result"
    }
   ],
   "source": [
    "net_price(500, 0.1, 0.0)"
   ]
  },
  {
   "cell_type": "code",
   "execution_count": 43,
   "id": "c7205016-c855-48f3-81fe-c49d63cdfe85",
   "metadata": {
    "tags": []
   },
   "outputs": [],
   "source": [
    "# keyword arguments\n",
    "def roll_no(college_code, batch, branch_code, uni_id):\n",
    "    print(f\"{college_code}-{batch}-{branch_code}-{uni_id}\")"
   ]
  },
  {
   "cell_type": "code",
   "execution_count": 44,
   "id": "8d7771a3-2e4c-43ef-a098-f821d5495178",
   "metadata": {
    "tags": []
   },
   "outputs": [
    {
     "name": "stdout",
     "output_type": "stream",
     "text": [
      "1604-21-735-65\n"
     ]
    }
   ],
   "source": [
    "roll_no(batch=21, uni_id=65, college_code=1604, branch_code=735)"
   ]
  },
  {
   "cell_type": "code",
   "execution_count": 55,
   "id": "815fec1b-bbd3-4426-a30b-409d85ae320e",
   "metadata": {
    "tags": []
   },
   "outputs": [],
   "source": [
    "# arbitrary arguments\n",
    "def display_name(a, b, *args):\n",
    "    print(a+b)\n",
    "    for arg in args:\n",
    "        print(arg, end=' ')"
   ]
  },
  {
   "cell_type": "code",
   "execution_count": 57,
   "id": "0cef54ff-1db3-43eb-b66a-3ed777231abd",
   "metadata": {
    "tags": []
   },
   "outputs": [
    {
     "name": "stdout",
     "output_type": "stream",
     "text": [
      "14\n",
      "Dr. Prof. Danish Ahmed I "
     ]
    }
   ],
   "source": [
    "display_name(9, 5, 'Dr.', 'Prof.', 'Danish', 'Ahmed', 'I')"
   ]
  },
  {
   "cell_type": "markdown",
   "id": "83073bae-1e80-4f38-9202-423fbdf482df",
   "metadata": {},
   "source": [
    "**Note:** `*args` allows us to pass in multiple arguments. Only one `*arg` per function is allowed."
   ]
  },
  {
   "cell_type": "code",
   "execution_count": 59,
   "id": "38b91323-40cf-417c-b867-9db643614ead",
   "metadata": {
    "tags": []
   },
   "outputs": [],
   "source": [
    "# keyword arguments\n",
    "def address(a, b, **kwargs):\n",
    "    print(a+b)\n",
    "    for key, value in kwargs.items():\n",
    "        print(f\"{key}: {value}\")"
   ]
  },
  {
   "cell_type": "code",
   "execution_count": 79,
   "id": "6ccdc62d-a873-4a62-87d1-86f308544ebf",
   "metadata": {
    "tags": []
   },
   "outputs": [
    {
     "name": "stdout",
     "output_type": "stream",
     "text": [
      "77\n",
      "street: gudiyan\n",
      "area: malaz\n",
      "pincode: 500009\n",
      "city: hyderabad\n",
      "state: telangana\n"
     ]
    }
   ],
   "source": [
    "address(15, 62, street='gudiyan', area=\"malaz\", pincode=500009, city='hyderabad', state='telangana')"
   ]
  },
  {
   "cell_type": "markdown",
   "id": "58a7451e-fae5-4c04-90b5-4652a10ebaa1",
   "metadata": {},
   "source": [
    "**Note:** `**kwargs` allows us to pass in multiple keyword arguments. Only one `**kwarg` per function is allowed."
   ]
  },
  {
   "cell_type": "markdown",
   "id": "b87c9e7a-f7da-40ea-9974-ad0d0e9d77ce",
   "metadata": {},
   "source": [
    "---"
   ]
  },
  {
   "cell_type": "markdown",
   "id": "43f063e7-3c47-4105-bc51-9e8360298cf7",
   "metadata": {},
   "source": [
    "**Exercise:** Create a shopping label for Amazon"
   ]
  },
  {
   "cell_type": "code",
   "execution_count": 71,
   "id": "cbce024b-ab0c-494d-bda7-b767a3c7003d",
   "metadata": {
    "tags": []
   },
   "outputs": [],
   "source": [
    "def shipping_label(a, b, c, *args, **kwargs):\n",
    "    print(a+b+c)\n",
    "    for arg in args:\n",
    "        print(arg, end=' ')\n",
    "    print()\n",
    "    print(f\"+91 {kwargs.get('phone_no')}\")\n",
    "    print(f\"{kwargs.get('house_no')} {kwargs.get('colony')}\")\n",
    "    print(f\"{kwargs.get('locality')}\")\n",
    "    print(f\"{kwargs.get('area')} {kwargs.get('pincode')}\")\n",
    "    print(f\"{kwargs.get('city')}\")\n",
    "    print(f\"{kwargs.get('state')}\")\n",
    "    print(f\"{kwargs.get('country')}\")"
   ]
  },
  {
   "cell_type": "code",
   "execution_count": 77,
   "id": "c629d9b2-1b3a-4b7e-8dba-13a30773148d",
   "metadata": {
    "tags": []
   },
   "outputs": [
    {
     "name": "stdout",
     "output_type": "stream",
     "text": [
      "36\n",
      "Dr. Prof. Danish Ahmed I \n",
      "+91 905xxxxxx\n",
      "14-6-443/21/1/b shradha nagar\n",
      "gudiyan\n",
      "malaz 500009\n",
      "hyderabad\n",
      "telangana\n",
      "india\n"
     ]
    }
   ],
   "source": [
    "shipping_label(16, 26, -6, 'Dr.', 'Prof.', 'Danish', 'Ahmed', 'I',\n",
    "              phone_no='905xxxxxx', house_no='14-6-443/21/1/b',colony='shradha nagar',\n",
    "              locality='gudiyan', area='malaz',\n",
    "              pincode=500009, city='hyderabad', state='telangana',\n",
    "              country='india')"
   ]
  },
  {
   "cell_type": "markdown",
   "id": "d6aacc5d-4110-4f77-90ef-529a65360642",
   "metadata": {},
   "source": [
    "---"
   ]
  },
  {
   "cell_type": "code",
   "execution_count": 81,
   "id": "f10c9d8f-099e-4f41-a609-977499f9b965",
   "metadata": {
    "tags": []
   },
   "outputs": [
    {
     "name": "stdout",
     "output_type": "stream",
     "text": [
      "68\n",
      "856\n",
      "853\n",
      "41\n"
     ]
    }
   ],
   "source": [
    "# built-in functions\n",
    "print(ord('D'))\n",
    "print(abs(-856))\n",
    "\n",
    "print(max(52, 96, 41, 852, 45, 853))\n",
    "print(min(52, 96, 41, 852, 45, 853))"
   ]
  },
  {
   "cell_type": "code",
   "execution_count": 5,
   "id": "52330a19-ac65-4bd2-9ea7-e5ed7555122c",
   "metadata": {
    "tags": []
   },
   "outputs": [
    {
     "name": "stdout",
     "output_type": "stream",
     "text": [
      "4166\n",
      "4165.53\n",
      "4200.0\n"
     ]
    }
   ],
   "source": [
    "# built-in functions\n",
    "print(round(4165.528))      # rounds to nearest decimal\n",
    "print(round(4165.528, 2))   # rounds to 2nd decimal value\n",
    "print(round(4165.528, -2))  # rounds to 100s place"
   ]
  },
  {
   "cell_type": "markdown",
   "id": "740ab1ad-c3b0-47ae-824a-95e1c2094c8e",
   "metadata": {},
   "source": [
    "**Note:** We can also access functions from a module called `math` which houses many math related functions and values."
   ]
  },
  {
   "cell_type": "code",
   "execution_count": null,
   "id": "e71576c2-08c5-40e6-8668-c28d9f424903",
   "metadata": {
    "tags": []
   },
   "outputs": [
    {
     "name": "stdin",
     "output_type": "stream",
     "text": [
      "Enter length of side 'a':  9\n",
      "Enter length of side 'b':  6\n"
     ]
    },
    {
     "name": "stdout",
     "output_type": "stream",
     "text": [
      "10.82 is the length of the hypotenuse.\n"
     ]
    }
   ],
   "source": [
    "import math\n",
    "\n",
    "a = int(input(\"Enter length of side \\'a\\': \"))\n",
    "b = int(input(\"Enter length of side \\'b\\': \"))\n",
    "\n",
    "c = math.sqrt(pow(a, 2)+pow(b, 2))\n",
    "print(f\"{round(c, 2)} is the length of the hypotenuse.\")"
   ]
  },
  {
   "cell_type": "markdown",
   "id": "171c1e2c-4130-4db2-a959-37e0806a207b",
   "metadata": {},
   "source": [
    "---"
   ]
  },
  {
   "cell_type": "markdown",
   "id": "b551c619-a888-465f-881e-697708ae689b",
   "metadata": {},
   "source": [
    "**Exercise:** Find the distance and direction a person must travel to reach destination. "
   ]
  },
  {
   "cell_type": "code",
   "execution_count": null,
   "id": "e06c7c5f-296d-4f49-a5d0-42aa66369043",
   "metadata": {
    "tags": []
   },
   "outputs": [
    {
     "name": "stdin",
     "output_type": "stream",
     "text": [
      "Enter X coordinate starting point:  4\n",
      "Enter Y coordinate starting point:  0\n",
      "Enter X coordinate ending point:  6\n",
      "Enter Y coordinate ending point:  11\n"
     ]
    },
    {
     "name": "stdout",
     "output_type": "stream",
     "text": [
      "You have to travel a distance of 11.18m in 79.7° direction.\n"
     ]
    }
   ],
   "source": [
    "x_coor1 = float(input(\"Enter X coordinate starting point: \"))\n",
    "y_coor1 = float(input(\"Enter Y coordinate starting point: \"))\n",
    "x_coor2 = float(input(\"Enter X coordinate ending point: \"))\n",
    "y_coor2 = float(input(\"Enter Y coordinate ending point: \"))\n",
    "\n",
    "r = math.dist((x_coor2, y_coor2), (x_coor1, y_coor1))\n",
    "phi = math.atan((y_coor2-y_coor1)/(x_coor2-x_coor1))\n",
    "\n",
    "print(f\"You have to travel a distance of {round(r, 2)}m in {round(math.degrees(phi), 2)}° direction.\")"
   ]
  },
  {
   "cell_type": "markdown",
   "id": "b3919aa6-2b5d-47d2-8cd0-18e310d8f9eb",
   "metadata": {},
   "source": [
    "---"
   ]
  },
  {
   "cell_type": "markdown",
   "id": "a12af0c0-7338-493c-9ab9-ecfb2dce7597",
   "metadata": {},
   "source": [
    "### Variable Scope\n",
    "\n",
    "The scope of a variable alludes to where it can be accessed in a program. A variable's scope depends on where it is announced and is confined to the piece in which it was defined."
   ]
  },
  {
   "cell_type": "code",
   "execution_count": 67,
   "id": "624bad58-49e6-4bfc-b7c1-719cf9bed115",
   "metadata": {
    "tags": []
   },
   "outputs": [
    {
     "name": "stdout",
     "output_type": "stream",
     "text": [
      "Before modification: 40\n",
      "Variable inside function: 90\n",
      "Variable outside function: 90\n"
     ]
    }
   ],
   "source": [
    "global_variable = 40\n",
    "print(\"Before calling:\", global_variable)\n",
    "\n",
    "def my_function():\n",
    "    global global_variable  # modify the global variable\n",
    "    global_variable += 50\n",
    "    print(\"Variable inside function:\", global_variable)\n",
    "\n",
    "my_function()\n",
    "print(\"Variable outside function:\", global_variable)"
   ]
  },
  {
   "cell_type": "markdown",
   "id": "b5ec28fd-c435-44fb-8c47-5e0bd7a8cac9",
   "metadata": {},
   "source": [
    "**Note:** Within a function, we first look for a **local** variable, then for an **enclosed** variable, then for a **global** variable and lastly we look for a **built-in** variable."
   ]
  },
  {
   "cell_type": "code",
   "execution_count": 73,
   "id": "5bbc20ed-d25e-4e79-ac7f-1e97a3f273dd",
   "metadata": {
    "tags": []
   },
   "outputs": [
    {
     "name": "stdout",
     "output_type": "stream",
     "text": [
      "Before calling: 80\n",
      "Before modification: 20\n",
      "Inside inner function: 50\n",
      "Inside outer function: 50\n",
      "After calling: 80\n"
     ]
    }
   ],
   "source": [
    "outer_variable = 80\n",
    "print(\"Before calling:\", outer_variable)\n",
    "\n",
    "def outer_function():\n",
    "    outer_variable = 20\n",
    "    print(\"Before modification:\", outer_variable)\n",
    "    \n",
    "    def inner_function():\n",
    "        nonlocal outer_variable  # modify the enclosing function's variable\n",
    "        outer_variable += 30\n",
    "        print(\"Inside inner function:\", outer_variable)\n",
    "    \n",
    "    inner_function()\n",
    "    print(\"Inside outer function:\", outer_variable)\n",
    "\n",
    "outer_function()\n",
    "print(\"After calling:\", outer_variable)"
   ]
  },
  {
   "cell_type": "markdown",
   "id": "1a6ec98e-6085-45a1-ac4a-4d9d468440ee",
   "metadata": {},
   "source": [
    "---"
   ]
  }
 ],
 "metadata": {
  "kernelspec": {
   "display_name": "Python 3 (ipykernel)",
   "language": "python",
   "name": "python3"
  },
  "language_info": {
   "codemirror_mode": {
    "name": "ipython",
    "version": 3
   },
   "file_extension": ".py",
   "mimetype": "text/x-python",
   "name": "python",
   "nbconvert_exporter": "python",
   "pygments_lexer": "ipython3",
   "version": "3.11.7"
  }
 },
 "nbformat": 4,
 "nbformat_minor": 5
}
