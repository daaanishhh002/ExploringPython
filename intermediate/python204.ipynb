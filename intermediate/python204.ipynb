{
 "cells": [
  {
   "cell_type": "markdown",
   "id": "1c17bb7d-5e62-4627-b256-c044cb396f09",
   "metadata": {},
   "source": [
    "# Python II\n",
    "\n",
    "1. Exception Handling\n",
    "2. File Handling\n",
    "3. Object Oriented Programming I\n",
    "4. Functional Programming\n",
    "5. Threading and Processing $\\longleftarrow$"
   ]
  },
  {
   "cell_type": "markdown",
   "id": "0ea6b8f2-80e2-423d-acd7-9ac585ad1328",
   "metadata": {},
   "source": [
    "---"
   ]
  },
  {
   "cell_type": "markdown",
   "id": "aac361dc-93c6-4b71-9884-a8bd32df02dc",
   "metadata": {
    "tags": []
   },
   "source": [
    "## Threading and Processing\n",
    "\n",
    "- **Threads:** Threads are the smallest units of execution within a process. Multiple threads can exist within a single process, and they share the same memory space. Threads are lightweight and used for concurrent execution of tasks.\n",
    "\n",
    "- **Processors:** Processors, also known as CPUs (Central Processing Units), are the hardware components of a computer that execute instructions. Modern computers often have multiple processor cores, allowing for parallel execution of tasks."
   ]
  },
  {
   "cell_type": "markdown",
   "id": "f7d76c40-0fe9-411b-9860-12ad767c232c",
   "metadata": {},
   "source": [
    "**Multithreading in Python:**\n",
    "\n",
    "- **Multithreading:** Multithreading is a programming technique that uses multiple threads within a single process to perform tasks concurrently. In Python, the Global Interpreter Lock (GIL) limits the true parallelism of threads. However, multithreading can still be useful for tasks that involve I/O-bound operations like file I/O or network requests.\n",
    "\n",
    "- **Use Cases:** Multithreading is suitable for tasks where the program spends a significant amount of time waiting for external resources (e.g., file reads, network requests). It can be used to improve the responsiveness and performance of I/O-bound applications."
   ]
  },
  {
   "cell_type": "markdown",
   "id": "0d6be683",
   "metadata": {},
   "source": [
    "**Multiprocessing in Python:**\n",
    "\n",
    "- **Multiprocessing:** Multiprocessing is a technique that utilizes multiple processes, each with its own memory space and Python interpreter. This allows for true parallelism, as the GIL doesn't affect processes. Multiprocessing is used for CPU-bound tasks that involve extensive computations.\n",
    "\n",
    "- **Use Cases:** Multiprocessing is suitable for computationally intensive tasks like data processing, numerical simulations, and running CPU-bound algorithms in parallel. It can take full advantage of multi-core processors for improved performance."
   ]
  },
  {
   "cell_type": "markdown",
   "id": "bd3a9dc8",
   "metadata": {},
   "source": [
    "In summary, multithreading is used for concurrent execution of tasks within a single process and is suitable for I/O-bound operations. Multiprocessing, on the other hand, uses multiple processes for parallel execution and is ideal for CPU-bound tasks. The choice between multithreading and multiprocessing depends on the nature of the task and the hardware available. Python provides libraries like `threading` for multithreading and `multiprocessing` for multiprocessing to facilitate concurrent and parallel programming."
   ]
  },
  {
   "cell_type": "markdown",
   "id": "9556b5df-08cc-409e-bd1e-e52294f8f6a0",
   "metadata": {},
   "source": [
    "![Concurrency vs Parallelism](https://i.ytimg.com/vi/RlM9AfWf1WU/sddefault.jpg)"
   ]
  },
  {
   "cell_type": "markdown",
   "id": "aa2c8df6-55f9-4741-8615-95db9b497ec1",
   "metadata": {},
   "source": [
    "---"
   ]
  },
  {
   "cell_type": "markdown",
   "id": "efbef2b2-834c-4f6c-8ff1-68cc5073a032",
   "metadata": {},
   "source": [
    "### Multithreading\n",
    "\n",
    "Multithreading allows multiple threads (smaller units of a process) to run concurrently. "
   ]
  },
  {
   "cell_type": "code",
   "execution_count": 2,
   "id": "b5ac95f7-e278-493e-bb91-e6e7bb8bb9db",
   "metadata": {
    "tags": []
   },
   "outputs": [],
   "source": [
    "import threading\n",
    "import time"
   ]
  },
  {
   "cell_type": "markdown",
   "id": "c4eea270",
   "metadata": {},
   "source": [
    "#### Normal Threads\n",
    "\n",
    "The main program waits for all non-daemon threads to finish before it exits. In other words, a normal thread will keep the program running until it finishes its task. These threads are intended to complete their execution, even if the main program finishes."
   ]
  },
  {
   "cell_type": "code",
   "execution_count": 3,
   "id": "a50b4cbe-324a-40f8-8a2b-20b0559ab7f1",
   "metadata": {
    "tags": []
   },
   "outputs": [
    {
     "name": "stdout",
     "output_type": "stream",
     "text": [
      "6\n",
      "[<_MainThread(MainThread, started 20324)>, <Thread(IOPub, started daemon 22340)>, <Heartbeat(Heartbeat, started daemon 8560)>, <ControlThread(Control, started daemon 11516)>, <HistorySavingThread(IPythonHistorySavingThread, started 22220)>, <ParentPollerWindows(Thread-4, started daemon 22264)>]\n"
     ]
    }
   ],
   "source": [
    "print(threading.active_count())  # returns no. of active threads\n",
    "print(threading.enumerate())     # returns descp. of active threads"
   ]
  },
  {
   "cell_type": "code",
   "execution_count": 1,
   "id": "ef743d82-e5a9-4af0-b423-6f48c2f38ca7",
   "metadata": {
    "tags": []
   },
   "outputs": [],
   "source": [
    "def task(name, delay):\n",
    "    print(f\"Task {name} starting\")\n",
    "    time.sleep(delay)\n",
    "    print(f\"Task {name} completed\")"
   ]
  },
  {
   "cell_type": "code",
   "execution_count": 4,
   "id": "f8a9d8de-2423-40f8-9b75-76a74b47eeb2",
   "metadata": {
    "tags": []
   },
   "outputs": [
    {
     "name": "stdout",
     "output_type": "stream",
     "text": [
      "Task A starting\n",
      "Task A completed\n",
      "Task B starting\n",
      "Task B completed\n",
      "Total time taken: 4.00 seconds\n"
     ]
    }
   ],
   "source": [
    "# without multithreading\n",
    "start = time.time()\n",
    "\n",
    "task(\"A\", 2)\n",
    "task(\"B\", 2)\n",
    "\n",
    "print(f\"Total time taken: {time.time() - start:.2f} seconds\")"
   ]
  },
  {
   "cell_type": "code",
   "execution_count": 5,
   "id": "dbf94f4c-0a1e-419a-96cf-f4716be5f8fd",
   "metadata": {
    "tags": []
   },
   "outputs": [
    {
     "name": "stdout",
     "output_type": "stream",
     "text": [
      "Task A starting\n",
      "Task B starting\n",
      "8\n",
      "[<_MainThread(MainThread, started 20324)>, <Thread(IOPub, started daemon 22340)>, <Heartbeat(Heartbeat, started daemon 8560)>, <ControlThread(Control, started daemon 11516)>, <HistorySavingThread(IPythonHistorySavingThread, started 22220)>, <ParentPollerWindows(Thread-4, started daemon 22264)>, <Thread(Thread-5 (task), started 7888)>, <Thread(Thread-6 (task), started 8952)>]\n",
      "Task A completedTask B completed\n",
      "\n",
      "Total time taken: 2.01 seconds\n"
     ]
    }
   ],
   "source": [
    "# with multithreading\n",
    "start = time.time()\n",
    "\n",
    "# create threads\n",
    "thread1 = threading.Thread(target=task, args=(\"A\", 2))\n",
    "thread2 = threading.Thread(target=task, args=(\"B\", 2))\n",
    "\n",
    "# start threads\n",
    "thread1.start()  # func is called\n",
    "thread2.start()  # func is called\n",
    "\n",
    "print(threading.active_count())  # +2\n",
    "print(threading.enumerate())\n",
    "\n",
    "# wait for both threads to finish\n",
    "thread1.join()\n",
    "thread2.join()\n",
    "\n",
    "print(f\"Total time taken: {time.time() - start:.2f} seconds\")"
   ]
  },
  {
   "cell_type": "markdown",
   "id": "b3ef488b-9999-4942-a7b3-a55886185e08",
   "metadata": {},
   "source": [
    "**Note:** Not calling `join()` means the main thread/process won’t wait for child threads/processes to complete. However, these threads/processes will still finish unless the main program exits/ends."
   ]
  },
  {
   "cell_type": "markdown",
   "id": "3cb6f2ef",
   "metadata": {},
   "source": [
    "#### Daemon Threads\n",
    "\n",
    "Daemon threads run in the background and are typically used for tasks that should not block the main program from exiting. They are meant for tasks that are not essential to the program and can be safely terminated when the main program ends."
   ]
  },
  {
   "cell_type": "code",
   "execution_count": 6,
   "id": "77ab4d8e-fe1a-4420-b442-afcee245e3d7",
   "metadata": {
    "tags": []
   },
   "outputs": [],
   "source": [
    "def background_task():\n",
    "    while True:\n",
    "        print(\"Background task is running...\")\n",
    "        time.sleep(1)"
   ]
  },
  {
   "cell_type": "markdown",
   "id": "0af410a7-64d5-4364-9e4d-d46dbac6204b",
   "metadata": {},
   "source": [
    "**Note:** Don't run in `.ipynb` notebooks."
   ]
  },
  {
   "cell_type": "code",
   "execution_count": null,
   "id": "43850a05-cd21-4a9c-87d1-d3025c4227ec",
   "metadata": {
    "tags": []
   },
   "outputs": [],
   "source": [
    "# create a daemon thread\n",
    "daemon_thread = threading.Thread(target=background_task, daemon=True)\n",
    "# daemon_thread.daemon = True  \n",
    "daemon_thread.start()\n",
    "\n",
    "# main thread sleeps for 3 seconds and exits\n",
    "time.sleep(3)\n",
    "print(\"Main program exits\")"
   ]
  },
  {
   "cell_type": "markdown",
   "id": "b983964f-54a6-4b55-9065-77a12da9be3e",
   "metadata": {
    "tags": []
   },
   "source": [
    "**Note:** The above is an example of `daemon threads`. They run in the background and are terminated when the main program exits. They are useful for tasks that don't need to complete before the program ends."
   ]
  },
  {
   "cell_type": "markdown",
   "id": "5c6dc348",
   "metadata": {},
   "source": [
    "**Note:** Normal threads will block the program from exiting until they complete, while daemon threads will not block the program from exiting, and they will be terminated when the program ends."
   ]
  },
  {
   "cell_type": "markdown",
   "id": "e5ba1ac2-c073-4d04-b725-8cdd908d8574",
   "metadata": {},
   "source": [
    "---"
   ]
  },
  {
   "cell_type": "markdown",
   "id": "cc354507-1763-4818-acf3-88d3396b7d90",
   "metadata": {},
   "source": [
    "### Multiprocessing\n",
    "\n",
    "Multiprocessing, unlike threads, which run within the same process, it creates separate processes, each with its own memory space. They achieve true parallelism. Each process runs independently on a separate CPU core therefore memory can't be shared."
   ]
  },
  {
   "cell_type": "code",
   "execution_count": 9,
   "id": "84e771b0-341b-4182-a802-c91afd316812",
   "metadata": {
    "tags": []
   },
   "outputs": [],
   "source": [
    "import multiprocessing"
   ]
  },
  {
   "cell_type": "code",
   "execution_count": 10,
   "id": "e787dc0f-ae52-48ec-9171-deffe78cd8ec",
   "metadata": {
    "tags": []
   },
   "outputs": [
    {
     "data": {
      "text/plain": [
       "12"
      ]
     },
     "execution_count": 10,
     "metadata": {},
     "output_type": "execute_result"
    }
   ],
   "source": [
    "multiprocessing.cpu_count()  # returns no. of cpu cores"
   ]
  },
  {
   "cell_type": "code",
   "execution_count": 16,
   "id": "16b5644b-b347-4f52-b682-c24976d2f371",
   "metadata": {
    "tags": []
   },
   "outputs": [
    {
     "name": "stdout",
     "output_type": "stream",
     "text": [
      "Square of 3: 9\n",
      "Square of 4: 16\n",
      "Total time taken: 4.00 seconds\n"
     ]
    }
   ],
   "source": [
    "# without multiprocessing\n",
    "def compute_square(num):\n",
    "    result = num * num\n",
    "    time.sleep(2)  # simulating a CPU-bound task\n",
    "    print(f\"Square of {num}: {result}\")\n",
    "\n",
    "\n",
    "start = time.time()\n",
    "compute_square(3)\n",
    "compute_square(4)\n",
    "\n",
    "print(f\"Total time taken: {time.time() - start:.2f} seconds\")"
   ]
  },
  {
   "cell_type": "markdown",
   "id": "9b35bade-68df-4156-95aa-48719c9fc5e4",
   "metadata": {},
   "source": [
    "**Note:** In JupyterLab, using multiprocessing may not work as expected due to the way Jupyter processes are managed. In such cases, it's recommended to use multiprocessing in a regular Python script or a different environment. "
   ]
  },
  {
   "cell_type": "code",
   "execution_count": 18,
   "id": "2ac19911-fdc9-4645-97db-28feb8e1725e",
   "metadata": {
    "tags": []
   },
   "outputs": [
    {
     "name": "stdout",
     "output_type": "stream",
     "text": [
      "Total time taken: 0.14 seconds\n"
     ]
    }
   ],
   "source": [
    "# with multiprocessing\n",
    "def compute_square(num):\n",
    "    result = num * num\n",
    "    time.sleep(2)  # simulating a CPU-bound task\n",
    "    print(f\"Square of {num}: {result}\")\n",
    "\n",
    "\n",
    "if __name__ == '__main__':\n",
    "    start = time.time()\n",
    "\n",
    "    # Create processes\n",
    "    process1 = multiprocessing.Process(target=compute_square, args=(3,))\n",
    "    process2 = multiprocessing.Process(target=compute_square, args=(4,))\n",
    "\n",
    "    # Start processes\n",
    "    process1.start()\n",
    "    process2.start()\n",
    "\n",
    "    # Wait for processes to complete\n",
    "    process1.join()\n",
    "    process2.join()\n",
    "\n",
    "    print(f\"Total time taken: {time.time() - start:.2f} seconds\")"
   ]
  },
  {
   "cell_type": "markdown",
   "id": "88947633",
   "metadata": {},
   "source": [
    "- Without `if __name__ == \"__main__\":` New processes will continuously re-import the script, which can lead to recursion or errors (especially on platforms like Windows).\n",
    "\n",
    "- With `if __name__ == \"__main__\":` The main script runs safely, and new processes are spawned without issues."
   ]
  },
  {
   "cell_type": "markdown",
   "id": "3929096f-ff1c-4aeb-891f-1073d77cc8ef",
   "metadata": {},
   "source": [
    "---"
   ]
  }
 ],
 "metadata": {
  "kernelspec": {
   "display_name": "Python 3 (ipykernel)",
   "language": "python",
   "name": "python3"
  },
  "language_info": {
   "codemirror_mode": {
    "name": "ipython",
    "version": 3
   },
   "file_extension": ".py",
   "mimetype": "text/x-python",
   "name": "python",
   "nbconvert_exporter": "python",
   "pygments_lexer": "ipython3",
   "version": "3.11.7"
  }
 },
 "nbformat": 4,
 "nbformat_minor": 5
}
