{
 "cells": [
  {
   "cell_type": "markdown",
   "id": "51f6e473-083b-415b-9100-516fc39da802",
   "metadata": {},
   "source": [
    "# Python II\n",
    "\n",
    "1. Exception Handling\n",
    "2. File Handling\n",
    "3. Object Oriented Programming I\n",
    "4. Functional Programming $\\longleftarrow$\n",
    "5. Threading and Processing"
   ]
  },
  {
   "cell_type": "markdown",
   "id": "52801583-6f60-4022-aaee-4ad87407059b",
   "metadata": {},
   "source": [
    "---"
   ]
  },
  {
   "cell_type": "markdown",
   "id": "eb495e55-d2ea-4c32-9254-d32f18f8e11d",
   "metadata": {
    "tags": []
   },
   "source": [
    "## Functional Programming\n",
    "\n",
    "Functional Programming (FP) is a programming paradigm that treats computation as the evaluation of mathematical functions and avoids changing state and mutable data. It's used to write code that is more declarative, concise, and less error-prone."
   ]
  },
  {
   "cell_type": "markdown",
   "id": "0ce32d95-f518-4ee9-8ca7-825061bddfbe",
   "metadata": {},
   "source": [
    "### Conceptual Explanation\n",
    "\n",
    "1. **First-Class Functions:** In FP, functions are treated as first-class citizens, which means they can be assigned to variables, passed as arguments to other functions, and returned as values from other functions.\n",
    "\n",
    "2. **Pure Functions:** A core concept in FP is pure functions. These functions produce the same output for the same input and have no side effects, meaning they don't modify external state.\n",
    "3. **Immutability:** Data, once created, is not changed. Instead of modifying existing data structures, FP promotes creating new data structures with modifications.\n",
    "4. **Higher-Order Functions:** FP often relies on higher-order functions, which are functions that take other functions as parameters or return functions as results. They enable abstraction and code reusability."
   ]
  },
  {
   "cell_type": "markdown",
   "id": "93547aa6-c91b-40a3-a630-a374ad9eb7a7",
   "metadata": {},
   "source": [
    "### Why Functional Programming is Used\n",
    "\n",
    "1. **Readability and Maintainability:** FP tends to produce more concise and readable code due to its declarative nature. This makes it easier to understand, maintain, and debug.\n",
    "\n",
    "2. **Predictability:** Pure functions and immutability make code predictable, as the same input will always produce the same output, eliminating unexpected side effects.\n",
    "3. **Parallelism and Concurrency:** FP makes it easier to write code that can be parallelized and executed concurrently, as it avoids shared mutable state.\n",
    "4. **Testing:** Pure functions are highly testable since they don't depend on external state. This promotes the development of unit tests, making it easier to identify and fix issues."
   ]
  },
  {
   "cell_type": "markdown",
   "id": "19a2ea59-b5b2-42fe-951c-92db95c8a061",
   "metadata": {},
   "source": [
    "### Use Cases\n",
    "\n",
    "1. **Data Transformation:** FP is often used for data manipulation, transformation, and filtering, which are common tasks in data analysis and processing.\n",
    "2. **Functional Libraries:** Many functional programming libraries and frameworks are available for tasks such as data processing (e.g., pandas in Python), stream processing (e.g., Apache Kafka), and big data analysis (e.g., Apache Spark).\n",
    "\n",
    "3. **Concurrency:** FP is beneficial in concurrent and parallel programming, where avoiding shared mutable state is crucial for avoiding race conditions and bugs.\n",
    "4. **Mathematical and Scientific Computing:** FP aligns well with mathematical and scientific computation, as it follows the principles of pure functions and immutability.\n",
    "5. **UI Development:** FP principles are applied in user interface development, where managing and updating user interface components without side effects is important.\n",
    "6. **Machine Learning:** Functional programming can be used for feature engineering and data preprocessing in machine learning pipelines, promoting immutability and predictability."
   ]
  },
  {
   "cell_type": "markdown",
   "id": "e1c6dcef-7503-46e6-bd60-4095d5e1c4e1",
   "metadata": {},
   "source": [
    "### The Need for Functional Programming\n",
    "\n",
    "1. **Reducing Bugs:** FP helps minimize programming errors by encouraging pure functions and immutability, which reduce the risk of introducing unexpected side effects and bugs.\n",
    "\n",
    "2. **Maintainability:** FP promotes clean and modular code, making it easier to maintain and extend software as it evolves.\n",
    "3. **Scalability:** For applications that require scalability, FP can simplify the development of concurrent and parallel code, as it avoids shared mutable state.\n",
    "4. **Testing and Debugging:** The predictability of pure functions makes testing and debugging more efficient, which is crucial in data analysis, scientific computing, and software development.\n",
    "5. **Declarative Style:** FP encourages a declarative coding style, which is often more intuitive and easier to understand, especially in domains where data transformation and processing are central.\n",
    "\n",
    "Overall, Functional Programming is used to write code that is more reliable, readable, and maintainable. Its principles are particularly valuable in situations where avoiding side effects, ensuring predictability, and managing data transformations are critical, such as in data science, machine learning, scientific computing, and large-scale software development."
   ]
  },
  {
   "cell_type": "markdown",
   "id": "107aeac7-9166-4f37-9e38-781a93fb8264",
   "metadata": {},
   "source": [
    "---"
   ]
  },
  {
   "cell_type": "code",
   "execution_count": 125,
   "id": "5497fe62-2072-4d41-9ee3-1249a349eaf5",
   "metadata": {
    "tags": []
   },
   "outputs": [],
   "source": [
    "# recursion\n",
    "def fibonacci(term):\n",
    "    if term==1:\n",
    "        return 0\n",
    "    elif term==2:\n",
    "        return 1\n",
    "    else:\n",
    "        return fibonacci(term-1) + fibonacci(term-2)"
   ]
  },
  {
   "cell_type": "code",
   "execution_count": 135,
   "id": "c067bd20-7c73-4ed7-b223-4e2c27c099c4",
   "metadata": {
    "tags": []
   },
   "outputs": [
    {
     "data": {
      "text/plain": [
       "514229"
      ]
     },
     "execution_count": 135,
     "metadata": {},
     "output_type": "execute_result"
    }
   ],
   "source": [
    "fibonacci(30)"
   ]
  },
  {
   "cell_type": "code",
   "execution_count": 139,
   "id": "c56dfc83-66af-4736-9e9a-ed269eb5de21",
   "metadata": {
    "tags": []
   },
   "outputs": [
    {
     "data": {
      "text/plain": [
       "'Even'"
      ]
     },
     "execution_count": 139,
     "metadata": {},
     "output_type": "execute_result"
    }
   ],
   "source": [
    "# lambda function\n",
    "polarity = lambda x: 'Even' if x%2==0 else 'Odd'\n",
    "polarity(98)"
   ]
  },
  {
   "cell_type": "code",
   "execution_count": 201,
   "id": "7fbd40db-185f-42ee-bd85-eee420b2ff12",
   "metadata": {
    "tags": []
   },
   "outputs": [
    {
     "data": {
      "text/plain": [
       "[['Afhaam', 'E', 20],\n",
       " ['Mubashir', 'D', 19],\n",
       " ['Zeeshan', 'B', 22],\n",
       " ['Danish', 'A', 21],\n",
       " ['Nomaan', 'A', 20]]"
      ]
     },
     "execution_count": 201,
     "metadata": {},
     "output_type": "execute_result"
    }
   ],
   "source": [
    "# sort\n",
    "students = [\n",
    "    ['Danish', 'A', 21],\n",
    "    ['Zeeshan', 'B', 22],\n",
    "    ['Nomaan', 'A', 20],\n",
    "    ['Mubashir', 'D', 19],\n",
    "    ['Afhaam', 'E', 20],\n",
    "]\n",
    "\n",
    "grade = lambda grades:grades[1]         # returns element at index 1\n",
    "students.sort(key=grade, reverse=True)  # iterates over list element wise and passes to grade\n",
    "students"
   ]
  },
  {
   "cell_type": "code",
   "execution_count": 203,
   "id": "739dffd5-4d26-46ac-bff3-805e59c44524",
   "metadata": {
    "tags": []
   },
   "outputs": [
    {
     "data": {
      "text/plain": [
       "[('petrol', 48.396), ('milk', 122.1), ('burger', 111.0), ('yoghurt', 166.5)]"
      ]
     },
     "execution_count": 203,
     "metadata": {},
     "output_type": "execute_result"
    }
   ],
   "source": [
    "# map\n",
    "items = [\n",
    "    ('petrol', 2.18),\n",
    "    ('milk', 5.50),\n",
    "    ('burger', 5.00),\n",
    "    ('yoghurt', 7.50),\n",
    "]\n",
    "\n",
    "to_INR = lambda items: (items[0], items[1]*22.20)\n",
    "list(map(to_INR, items))"
   ]
  },
  {
   "cell_type": "markdown",
   "id": "150bc644-d753-41b6-9f94-4ee55493306a",
   "metadata": {},
   "source": [
    "`map()` applies a given function to each item of an iterable and returns a new iterable with the results."
   ]
  },
  {
   "cell_type": "code",
   "execution_count": 206,
   "id": "551ea714-7204-454f-9b40-16f164637669",
   "metadata": {
    "tags": []
   },
   "outputs": [
    {
     "data": {
      "text/plain": [
       "[('Danish', 21), ('Zeeshan', 22)]"
      ]
     },
     "execution_count": 206,
     "metadata": {},
     "output_type": "execute_result"
    }
   ],
   "source": [
    "# filter\n",
    "friends = [('Danish',21), ('Mubashir',19), ('Afhaam',20), ('Zeeshan',22)]\n",
    "\n",
    "voter = lambda items:items[1] >= 21\n",
    "list(filter(voter, friends))"
   ]
  },
  {
   "cell_type": "markdown",
   "id": "7d110b74-31e6-4e0a-9a32-4a6381015d8f",
   "metadata": {},
   "source": [
    "**Note:** `filter()` filters items from an iterable based on a given condition and returns a new iterable with the filtered items."
   ]
  },
  {
   "cell_type": "code",
   "execution_count": 214,
   "id": "9f77374f-ad0e-4643-9b48-be65140f944a",
   "metadata": {
    "tags": []
   },
   "outputs": [
    {
     "data": {
      "text/plain": [
       "[('Danish', 91, 'sleeping'),\n",
       " ('Dania', 96, 'cooking'),\n",
       " ('Laiba', 99, 'shopping'),\n",
       " ('Afhaam', 89, 'time-passing'),\n",
       " ('Mubashir', 59, 'smoking'),\n",
       " ('Nomaan', 85, 'diy-ing'),\n",
       " ('Alex', 86, 'magic-ing')]"
      ]
     },
     "execution_count": 214,
     "metadata": {},
     "output_type": "execute_result"
    }
   ],
   "source": [
    "# zip\n",
    "names = ['Danish','Dania','Laiba','Afhaam','Mubashir','Nomaan','Alex']\n",
    "marks = [91,96,99,89,59,85,86]\n",
    "interests = ['sleeping','cooking','shopping','time-passing','smoking','diy-ing','magic-ing']\n",
    "\n",
    "list(zip(names, marks, interests))"
   ]
  },
  {
   "cell_type": "markdown",
   "id": "e57b8539-22b7-4909-a578-218aa1ba9c68",
   "metadata": {},
   "source": [
    "**Note:** `zip()` combines multiple iterables (e.g., lists, tuples) element-wise into tuples and returns an iterable of these tuples."
   ]
  },
  {
   "cell_type": "code",
   "execution_count": 218,
   "id": "37edab17-778c-4f83-9f78-605995912bf7",
   "metadata": {
    "tags": []
   },
   "outputs": [
    {
     "data": {
      "text/plain": [
       "720"
      ]
     },
     "execution_count": 218,
     "metadata": {},
     "output_type": "execute_result"
    }
   ],
   "source": [
    "# reduce\n",
    "from functools import reduce\n",
    "\n",
    "reduce((lambda x,y:x*y), range(1,7))"
   ]
  },
  {
   "cell_type": "markdown",
   "id": "2b42fa09-1dad-43c6-846c-036557ec834f",
   "metadata": {},
   "source": [
    "**Note:** `reduce()` function applies a given function cumulatively to the items of an iterable, reducing it to a single value."
   ]
  },
  {
   "cell_type": "markdown",
   "id": "c4ec0152-796c-4fea-a6e8-8c1ddce07e50",
   "metadata": {},
   "source": [
    "---"
   ]
  }
 ],
 "metadata": {
  "kernelspec": {
   "display_name": "Python 3 (ipykernel)",
   "language": "python",
   "name": "python3"
  },
  "language_info": {
   "codemirror_mode": {
    "name": "ipython",
    "version": 3
   },
   "file_extension": ".py",
   "mimetype": "text/x-python",
   "name": "python",
   "nbconvert_exporter": "python",
   "pygments_lexer": "ipython3",
   "version": "3.11.7"
  }
 },
 "nbformat": 4,
 "nbformat_minor": 5
}
