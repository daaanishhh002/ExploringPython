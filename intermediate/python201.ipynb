{
 "cells": [
  {
   "cell_type": "markdown",
   "id": "fdc18f12-e368-4044-9a99-6a6c87535b0e",
   "metadata": {},
   "source": [
    "# Python II\n",
    "\n",
    "1. Exception Handling $\\longleftarrow$\n",
    "2. File Handling $\\longleftarrow$\n",
    "3. Modules $\\longleftarrow$\n",
    "4. Object Oriented Programming I\n",
    "5. Functional Programming\n",
    "6. Threading and Processing"
   ]
  },
  {
   "cell_type": "markdown",
   "id": "edc39716-f50f-49ab-b473-3eff859eea98",
   "metadata": {},
   "source": [
    "---"
   ]
  },
  {
   "cell_type": "markdown",
   "id": "d8c96d64-4d48-4bbe-a801-a5f612535233",
   "metadata": {
    "tags": []
   },
   "source": [
    "## Exception Handling\n",
    "\n",
    "**Exception handling** is a mechanism to manage runtime errors or exceptions that occur during program execution. It helps maintain program flow even when unexpected events arise."
   ]
  },
  {
   "cell_type": "code",
   "execution_count": 25,
   "id": "f43c71be-2bc9-4b4a-9059-94c790f788a4",
   "metadata": {
    "tags": []
   },
   "outputs": [
    {
     "name": "stdout",
     "output_type": "stream",
     "text": [
      "Enter a number:  549\n",
      "Enter another number:  858\n"
     ]
    },
    {
     "name": "stdout",
     "output_type": "stream",
     "text": [
      "0.6398601398601399\n",
      "This will be executed no matter what.\n"
     ]
    }
   ],
   "source": [
    "# exception handling 1\n",
    "try:\n",
    "    num1 = int(input(\"Enter a number: \"))\n",
    "    num2 = int(input(\"Enter another number: \"))\n",
    "    result = num1/num2\n",
    "except ZeroDivisionError as e:\n",
    "    print(e)\n",
    "except Exception as e:\n",
    "    print(e)\n",
    "else:\n",
    "    print(result)\n",
    "finally:\n",
    "    print(\"This will be executed no matter what.\")"
   ]
  },
  {
   "cell_type": "code",
   "execution_count": 29,
   "id": "49481d30-2533-4537-8a0e-3f969f6738a3",
   "metadata": {
    "tags": []
   },
   "outputs": [],
   "source": [
    "# exception handling 2\n",
    "def root(base, exponent=0.5):\n",
    "    if base < 0:\n",
    "        raise Exception(\"Base is invalid. Enter non-negative base.\")\n",
    "    else:\n",
    "        return pow(base, exponent)"
   ]
  },
  {
   "cell_type": "code",
   "execution_count": 34,
   "id": "13d6fc49-f8e4-4547-807a-5c22b155b705",
   "metadata": {
    "tags": []
   },
   "outputs": [
    {
     "ename": "Exception",
     "evalue": "Base is invalid. Enter non-negative base.",
     "output_type": "error",
     "traceback": [
      "\u001b[1;31m---------------------------------------------------------------------------\u001b[0m",
      "\u001b[1;31mException\u001b[0m                                 Traceback (most recent call last)",
      "Cell \u001b[1;32mIn[34], line 1\u001b[0m\n\u001b[1;32m----> 1\u001b[0m \u001b[43mroot\u001b[49m\u001b[43m(\u001b[49m\u001b[38;5;241;43m-\u001b[39;49m\u001b[38;5;241;43m1\u001b[39;49m\u001b[43m)\u001b[49m\n",
      "Cell \u001b[1;32mIn[29], line 4\u001b[0m, in \u001b[0;36mroot\u001b[1;34m(base, exponent)\u001b[0m\n\u001b[0;32m      2\u001b[0m \u001b[38;5;28;01mdef\u001b[39;00m \u001b[38;5;21mroot\u001b[39m(base, exponent\u001b[38;5;241m=\u001b[39m\u001b[38;5;241m0.5\u001b[39m):\n\u001b[0;32m      3\u001b[0m     \u001b[38;5;28;01mif\u001b[39;00m base \u001b[38;5;241m<\u001b[39m \u001b[38;5;241m0\u001b[39m:\n\u001b[1;32m----> 4\u001b[0m         \u001b[38;5;28;01mraise\u001b[39;00m \u001b[38;5;167;01mException\u001b[39;00m(\u001b[38;5;124m\"\u001b[39m\u001b[38;5;124mBase is invalid. Enter non-negative base.\u001b[39m\u001b[38;5;124m\"\u001b[39m)\n\u001b[0;32m      5\u001b[0m     \u001b[38;5;28;01melse\u001b[39;00m:\n\u001b[0;32m      6\u001b[0m         \u001b[38;5;28;01mreturn\u001b[39;00m \u001b[38;5;28mpow\u001b[39m(base, exponent)\n",
      "\u001b[1;31mException\u001b[0m: Base is invalid. Enter non-negative base."
     ]
    }
   ],
   "source": [
    "root(-1)"
   ]
  },
  {
   "cell_type": "code",
   "execution_count": 40,
   "id": "7e71ccf3-d380-4a14-b3a2-c58538e2e1e9",
   "metadata": {
    "tags": []
   },
   "outputs": [],
   "source": [
    "# exception handling 3\n",
    "def area_rect(length, breadth):\n",
    "    assert (length > breadth), \"Length should be greater than breadth.\"\n",
    "    return length*breadth"
   ]
  },
  {
   "cell_type": "code",
   "execution_count": 42,
   "id": "c3be487a-0bd9-41d3-8030-6b2a998463d9",
   "metadata": {
    "tags": []
   },
   "outputs": [
    {
     "ename": "AssertionError",
     "evalue": "Length should be greater than breadth.",
     "output_type": "error",
     "traceback": [
      "\u001b[1;31m---------------------------------------------------------------------------\u001b[0m",
      "\u001b[1;31mAssertionError\u001b[0m                            Traceback (most recent call last)",
      "Cell \u001b[1;32mIn[42], line 1\u001b[0m\n\u001b[1;32m----> 1\u001b[0m area_rect(\u001b[38;5;241m3\u001b[39m,\u001b[38;5;241m5\u001b[39m)\n",
      "Cell \u001b[1;32mIn[40], line 3\u001b[0m, in \u001b[0;36marea_rect\u001b[1;34m(length, breadth)\u001b[0m\n\u001b[0;32m      2\u001b[0m \u001b[38;5;28;01mdef\u001b[39;00m \u001b[38;5;21marea_rect\u001b[39m(length, breadth):\n\u001b[1;32m----> 3\u001b[0m     \u001b[38;5;28;01massert\u001b[39;00m (length \u001b[38;5;241m>\u001b[39m breadth), \u001b[38;5;124m\"\u001b[39m\u001b[38;5;124mLength should be greater than breadth.\u001b[39m\u001b[38;5;124m\"\u001b[39m\n\u001b[0;32m      4\u001b[0m     \u001b[38;5;28;01mreturn\u001b[39;00m length\u001b[38;5;241m*\u001b[39mbreadth\n",
      "\u001b[1;31mAssertionError\u001b[0m: Length should be greater than breadth."
     ]
    }
   ],
   "source": [
    "area_rect(3,5)"
   ]
  },
  {
   "cell_type": "markdown",
   "id": "d8c4823b-7fcd-4ce5-94cd-21a72909bef3",
   "metadata": {},
   "source": [
    "**Note:** Use `assert` when you're writing your own tests for conditions that *should never fail* in your logic. It’s for debugging during development. Use `raise` to handle expected user errors or problems (e.g., invalid inputs, or specific errors in your business logic) during actual program execution. It’s for production code and real-world error handling."
   ]
  },
  {
   "cell_type": "markdown",
   "id": "4632668a-e900-4046-ba79-45bdb838df27",
   "metadata": {},
   "source": [
    "---"
   ]
  },
  {
   "cell_type": "markdown",
   "id": "5ba3b073-6756-4b55-9835-3f150c83bd59",
   "metadata": {
    "tags": []
   },
   "source": [
    "## File Handling\n",
    "\n",
    "**File Handling** allows you to work with files—reading, writing, and manipulating data stored on disk."
   ]
  },
  {
   "cell_type": "code",
   "execution_count": 28,
   "id": "3d3223d4-b09c-4a79-8250-1768e0cd25b7",
   "metadata": {
    "tags": []
   },
   "outputs": [
    {
     "name": "stdout",
     "output_type": "stream",
     "text": [
      "Path exists!\n",
      "File exists!\n"
     ]
    }
   ],
   "source": [
    "import os\n",
    "\n",
    "# checking if path and file exists\n",
    "path = \"./sample_text.txt\"\n",
    "\n",
    "if os.path.exists(path):\n",
    "    print(\"Path exists!\")\n",
    "    if os.path.isfile(path):\n",
    "        print(\"File exists!\")\n",
    "    else:\n",
    "        print(\"File doesn't exist.\")\n",
    "else:\n",
    "    print(\"Path doesn't exist.\")"
   ]
  },
  {
   "cell_type": "markdown",
   "id": "2a704d96-2afa-4c97-999a-cd8a8c2a3afe",
   "metadata": {},
   "source": [
    "**Sample Text:** Lorem ipsum dolor sit amet, consectetur adipiscing elit. Duis sodales metus vitae dolor aliquam viverra. Aenean fringilla sem sed justo aliquet, eget maximus turpis ultrices. Sed congue leo nec commodo cursus. Donec ultrices sed felis et euismod. Donec euismod bibendum tincidunt. Pellentesque blandit magna a efficitur laoreet. Proin sed ex et mauris efficitur mattis quis eget mi. Nullam vitae pharetra leo, at ultrices mauris."
   ]
  },
  {
   "cell_type": "code",
   "execution_count": 12,
   "id": "add9c1aa-a6eb-4a77-ae8d-9cdedbe1e7c9",
   "metadata": {
    "tags": []
   },
   "outputs": [
    {
     "name": "stdout",
     "output_type": "stream",
     "text": [
      "\n"
     ]
    }
   ],
   "source": [
    "# reading a file 1\n",
    "with open(path) as file:\n",
    "    print(file.read())"
   ]
  },
  {
   "cell_type": "markdown",
   "id": "6ae1a1e6-35d2-487e-83d1-37977b98e2fc",
   "metadata": {},
   "source": [
    "**Note:** Above is the best practise to open a file as it closes the file automatically. Use `file.closed` to check open/close status of it. One can even use a `try else` block to avoid exception."
   ]
  },
  {
   "cell_type": "code",
   "execution_count": 22,
   "id": "26fecd69-6665-4a70-b842-29c4d2d5e54c",
   "metadata": {
    "tags": []
   },
   "outputs": [
    {
     "name": "stdout",
     "output_type": "stream",
     "text": [
      "[Errno 2] No such file or directory: './text.tx'\n"
     ]
    }
   ],
   "source": [
    "# reading file 2\n",
    "try:\n",
    "    with open(\"./text.tx\") as file:\n",
    "        print(file.read())\n",
    "except FileNotFoundError as e:\n",
    "    print(e)"
   ]
  },
  {
   "cell_type": "code",
   "execution_count": 17,
   "id": "9653edb4-e399-4d8c-b19c-d3013c0a1cb1",
   "metadata": {
    "tags": []
   },
   "outputs": [],
   "source": [
    "# writing to a file\n",
    "text = \"This text has been overwritten!\"\n",
    "\n",
    "with open(path, 'w') as file:\n",
    "    file.write(text)"
   ]
  },
  {
   "cell_type": "code",
   "execution_count": 19,
   "id": "7ddb3290-02b0-4406-abd8-68dcff3db9eb",
   "metadata": {
    "tags": []
   },
   "outputs": [],
   "source": [
    "# appending to a file\n",
    "text = \"This text has been appended instead of being overwritten!\"\n",
    "\n",
    "with open(path, 'a') as file:\n",
    "    file.write(text)"
   ]
  },
  {
   "cell_type": "code",
   "execution_count": 31,
   "id": "53eb5781-2e62-4126-a9cb-34d3bd36e555",
   "metadata": {
    "tags": []
   },
   "outputs": [
    {
     "data": {
      "text/plain": [
       "'./copy.txt'"
      ]
     },
     "execution_count": 31,
     "metadata": {},
     "output_type": "execute_result"
    }
   ],
   "source": [
    "# copying a file\n",
    "import shutil\n",
    "\n",
    "shutil.copyfile(path,\"./copy.txt\")"
   ]
  },
  {
   "cell_type": "markdown",
   "id": "49aa6c8b-6257-451d-8503-944956088e7c",
   "metadata": {},
   "source": [
    "**Note:** We can use `copyfile`, `copy` and `copy2` to copy a file. The difference between them is that `copyfile` copies only the content, whereas `copy`, along with the content, copies the permisson mode and destination can be a directory, and `copy2` does all the above along with copying the metadata as well."
   ]
  },
  {
   "cell_type": "code",
   "execution_count": 33,
   "id": "c5bf9a1f-950c-4c06-b158-d119dee62349",
   "metadata": {
    "tags": []
   },
   "outputs": [
    {
     "name": "stdout",
     "output_type": "stream",
     "text": [
      "./sample_text.txt has been moved!\n"
     ]
    }
   ],
   "source": [
    "# moving a file\n",
    "source = path\n",
    "dest = \"./text.txt\"\n",
    "\n",
    "try:\n",
    "    if os.path.exists(dest):\n",
    "        print(\"There exists a file here!\")\n",
    "    else:\n",
    "        os.replace(source, dest)\n",
    "        print(f\"{path} has been moved!\")\n",
    "except FileNotFoundError as e:\n",
    "    print(e)"
   ]
  },
  {
   "cell_type": "code",
   "execution_count": 37,
   "id": "95384a9c-ba1b-4b40-9760-a27991abbcbc",
   "metadata": {
    "tags": []
   },
   "outputs": [
    {
     "name": "stdout",
     "output_type": "stream",
     "text": [
      "Deletion Successful!\n"
     ]
    }
   ],
   "source": [
    "# deleting a file\n",
    "try:\n",
    "    os.remove(\"./copy.txt\")\n",
    "    # os.rmdir(\"./copy.txt\")\n",
    "    # shutil.rmtree(\"./copy.txt\")\n",
    "    pass\n",
    "except FileNotFoundError as e:\n",
    "    print(e)\n",
    "except PermissionError as e:\n",
    "    print(e)\n",
    "except OSError as e:\n",
    "    print(e)\n",
    "else:\n",
    "    print(\"Deletion Successful!\")"
   ]
  },
  {
   "cell_type": "markdown",
   "id": "7dd5852b-fa8a-4d87-9f8a-87c21884cd03",
   "metadata": {},
   "source": [
    "**Note:** `os.remove()` deletes a file from the memory itself. `os.rmsdir()` deletes an empty directory from the memory itself. `shutil.rmtree()` can delete a directory with content in it."
   ]
  },
  {
   "cell_type": "markdown",
   "id": "bce2d051-4df9-48c6-9609-31724c411aa1",
   "metadata": {},
   "source": [
    "---"
   ]
  },
  {
   "cell_type": "markdown",
   "id": "6572711a-446c-4ff2-8aed-133b422e02a8",
   "metadata": {},
   "source": [
    "## Modules\n",
    "\n",
    "Modules in are files containing Python code that define functions, classes, and variables, allowing for code organization and reuse across multiple programs."
   ]
  },
  {
   "cell_type": "markdown",
   "id": "25ba595a-a71a-45d3-9208-0b8c63e3f4c6",
   "metadata": {},
   "source": [
    "**Main Function in Python**\n",
    "\n",
    "```python\n",
    "if __name__ = \"__main__\":\n",
    "    main()\n",
    "```\n",
    "\n",
    "The *fiasco* behind `if __name__ == \"__main__\":` in Python arises from how the language handles module imports and execution. When a Python script is run, the interpreter sets the special variable `__name__` to `\"__main__\"` for the executing script. However, if that script is imported as a module in another script, `__name__` is set to the module's name instead. This distinction prevents certain blocks of code from executing during an import, ensuring that only the intended parts run when the script is executed directly. Without this guard, code meant for direct execution might inadvertently run when imported, leading to unexpected behavior and potential infinite loops, especially in scenarios involving multiprocessing.\n",
    "\n",
    "[Resource](https://youtu.be/lVUOrPunRxQ?si=jHFGc0G0IuSR_nsB)"
   ]
  },
  {
   "cell_type": "code",
   "execution_count": 31,
   "id": "2bbf43c7-2d22-46b6-8232-5397f8f55ad6",
   "metadata": {
    "tags": []
   },
   "outputs": [
    {
     "name": "stdout",
     "output_type": "stream",
     "text": [
      "__main__\n"
     ]
    }
   ],
   "source": [
    "# test.py\n",
    "def name():\n",
    "    print(__name__)\n",
    "\n",
    "def add(x, y):\n",
    "    return x+y\n",
    "\n",
    "def sub(x, y):\n",
    "    return x-y\n",
    "\n",
    "def main():\n",
    "    name()\n",
    "    add(5, 20)\n",
    "    sub(90, 63)\n",
    "\n",
    "if __name__ == \"__main__\":\n",
    "    main()  # any objects not intended to be executed should be added here"
   ]
  },
  {
   "cell_type": "code",
   "execution_count": 33,
   "id": "4efed401-247c-41fd-a2e4-ec2706b05499",
   "metadata": {
    "tags": []
   },
   "outputs": [
    {
     "name": "stdout",
     "output_type": "stream",
     "text": [
      "__main__\n"
     ]
    },
    {
     "ename": "AttributeError",
     "evalue": "module 'test' has no attribute 'name'",
     "output_type": "error",
     "traceback": [
      "\u001b[1;31m---------------------------------------------------------------------------\u001b[0m",
      "\u001b[1;31mAttributeError\u001b[0m                            Traceback (most recent call last)",
      "Cell \u001b[1;32mIn[33], line 6\u001b[0m\n\u001b[0;32m      2\u001b[0m \u001b[38;5;28;01mimport\u001b[39;00m \u001b[38;5;21;01mtest\u001b[39;00m  \u001b[38;5;66;03m# importing a module runs the whole file\u001b[39;00m\n\u001b[0;32m      4\u001b[0m \u001b[38;5;28mprint\u001b[39m(\u001b[38;5;18m__name__\u001b[39m)\n\u001b[1;32m----> 6\u001b[0m test\u001b[38;5;241m.\u001b[39mname()\n\u001b[0;32m      7\u001b[0m \u001b[38;5;28mprint\u001b[39m(test\u001b[38;5;241m.\u001b[39madd(\u001b[38;5;241m6\u001b[39m, \u001b[38;5;241m2\u001b[39m))\n",
      "\u001b[1;31mAttributeError\u001b[0m: module 'test' has no attribute 'name'"
     ]
    }
   ],
   "source": [
    "# main.py\n",
    "import test  # importing a module runs the whole file\n",
    "\n",
    "print(__name__)\n",
    "\n",
    "test.name()\n",
    "print(test.add(6, 2))"
   ]
  },
  {
   "cell_type": "markdown",
   "id": "989d0836-b7f7-4d10-a2d4-09c2b2589f5d",
   "metadata": {},
   "source": [
    "---"
   ]
  }
 ],
 "metadata": {
  "kernelspec": {
   "display_name": "Python 3 (ipykernel)",
   "language": "python",
   "name": "python3"
  },
  "language_info": {
   "codemirror_mode": {
    "name": "ipython",
    "version": 3
   },
   "file_extension": ".py",
   "mimetype": "text/x-python",
   "name": "python",
   "nbconvert_exporter": "python",
   "pygments_lexer": "ipython3",
   "version": "3.11.7"
  }
 },
 "nbformat": 4,
 "nbformat_minor": 5
}
