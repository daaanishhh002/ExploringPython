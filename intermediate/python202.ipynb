{
 "cells": [
  {
   "cell_type": "markdown",
   "id": "a0384fd3-18ec-4571-8b71-8331afc0192c",
   "metadata": {},
   "source": [
    "# Python II\n",
    "\n",
    "1. Exception Handling\n",
    "2. File Handling\n",
    "3. Object Oriented Programming I $\\longleftarrow$\n",
    "4. Functional Programming\n",
    "5. Threading and Processing"
   ]
  },
  {
   "cell_type": "markdown",
   "id": "eebab3f7-800d-4f5a-b6c3-dd5e3732f551",
   "metadata": {},
   "source": [
    "---"
   ]
  },
  {
   "cell_type": "markdown",
   "id": "5c7a42f3-8b6c-4ebe-b39e-dcb4505d80ab",
   "metadata": {
    "tags": []
   },
   "source": [
    "## Object Oriented Programming I\n",
    "\n",
    "Object-Oriented Programming (OOP) is a programming paradigm that organizes and models software based on the concept of **objects**. Objects represent real-world entities and can have both data (attributes) and behaviors (methods). OOP provides a structured and modular way of designing and developing software, promoting code reusability and making it easier to manage complex systems."
   ]
  },
  {
   "cell_type": "markdown",
   "id": "7604920c-cab0-4acd-b919-aaaf549d21e6",
   "metadata": {},
   "source": [
    "### Conceptual Explanation\n",
    "\n",
    "1. **Classes:** They are templates or blueprints for creating objects. They define the attributes (data) and methods (functions) that objects of that class will have.\n",
    "2. **Objects:** In OOP, everything is an object, which is an instance of a class. A class is like a blueprint that defines the structure and behavior of objects.\n",
    " \n",
    "3. **Inheritance:** It allows you to create a new class based on an existing class, inheriting its attributes and methods. It promotes code reuse and the creation of more specialized classes.\n",
    "\n",
    "4. **Polymorphism:** It allows methods to have the same name but behave differently based on the object that is calling them.\n",
    "\n",
    "5. **Encapsulation:** It hides the internal details and provides an interface for interacting with the object."
   ]
  },
  {
   "cell_type": "markdown",
   "id": "ef827af3-5054-4b8c-9359-8d3e3045ff3f",
   "metadata": {},
   "source": [
    "### Why OOP is Used\n",
    "\n",
    "1. **Modularity:** OOP promotes modularity by breaking down a complex system into smaller, manageable components (objects and classes).\n",
    "\n",
    "2. **Reusability:** With inheritance, you can reuse and extend existing classes to create new ones, reducing redundancy and saving development time.\n",
    "\n",
    "3. **Abstraction:** OOP allows you to abstract complex real-world systems into simpler models, making it easier to design and understand software.\n",
    "\n",
    "4. **Maintenance:** Code organized using OOP is generally easier to maintain and debug, as changes to one part of the code often have limited impacts on other parts."
   ]
  },
  {
   "cell_type": "markdown",
   "id": "0079183f-b4fd-4fa9-aa37-dd96a1b0c408",
   "metadata": {},
   "source": [
    "### Use Cases\n",
    "\n",
    "1. **Software Development:** OOP is commonly used for developing software applications, whether they are desktop applications, web applications, or mobile apps. It provides a structured way to model and design software.\n",
    "\n",
    "2. **Game Development:** Many video games are developed using OOP principles. Game objects, characters, and behaviors can be represented as objects and classes.\n",
    "3. **Database Systems:** OOP concepts are applied in Object-Relational Mapping (ORM) frameworks, which map database tables to classes and objects in the code.\n",
    "4. **Simulation and Modeling:** OOP is used in scientific simulations and modeling, where objects represent physical or abstract entities.\n",
    "5. **GUI Applications:** Graphical User Interface (GUI) development often employs OOP to model the various elements of the user interface as objects.\n",
    "6. **Robotics and Embedded Systems:** In robotics and embedded systems, objects can represent sensors, actuators, and control logic."
   ]
  },
  {
   "cell_type": "markdown",
   "id": "9b8081aa-f936-416e-8a2c-0034c493e125",
   "metadata": {},
   "source": [
    "### The Need for OOP\n",
    "\n",
    "1. **Complexity Handling:** In modern software development, systems are becoming increasingly complex. OOP helps manage this complexity by breaking it down into more manageable pieces.\n",
    "\n",
    "2. **Code Reusability:** OOP allows you to reuse code, reducing the need to rewrite similar functionality, which saves time and minimizes errors.\n",
    "\n",
    "3. **Flexibility and Extensibility:** OOP makes it easier to adapt and extend existing code to meet changing requirements.\n",
    "\n",
    "4. **Real-World Modeling:** OOP allows software to be modeled after real-world objects and interactions, making it more intuitive to understand and work with.\n",
    "\n",
    "5. **Collaborative Development:** OOP facilitates team collaboration by providing a clear and organized structure, making it easier for multiple developers to work on the same project.\n",
    "\n",
    "Overall, OOP is a valuable approach to software development because it provides a way to manage complexity, promote code reusability, and model software in a way that closely aligns with real-world concepts and behaviors. It has become a foundational paradigm in modern programming."
   ]
  },
  {
   "cell_type": "markdown",
   "id": "db275453-f6d9-45e2-b89e-24db37aace5f",
   "metadata": {},
   "source": [
    "---"
   ]
  },
  {
   "cell_type": "markdown",
   "id": "db276753-8510-4abf-9df9-f3229ac8bf16",
   "metadata": {},
   "source": [
    "## Instantiation of Object\n",
    "\n",
    "A class defines the blueprint for a car, and an object is an actual car created from that blueprint."
   ]
  },
  {
   "cell_type": "code",
   "execution_count": 88,
   "id": "630b444b-ff57-407e-9b12-cac3fc75e7f1",
   "metadata": {
    "tags": []
   },
   "outputs": [],
   "source": [
    "class Car:\n",
    "    # class variable shared by all instances\n",
    "    total_cars_produced = 0\n",
    "    \n",
    "    def __init__(self, brand, model, color):\n",
    "        self.brand = brand  # instance variable\n",
    "        self.model = model\n",
    "        self.color = color\n",
    "        Car.total_cars_produced += 1  # increment each time a car is made"
   ]
  },
  {
   "cell_type": "code",
   "execution_count": 90,
   "id": "5472f866-c511-473c-9ac4-f814f0d6a98f",
   "metadata": {
    "tags": []
   },
   "outputs": [],
   "source": [
    "car1 = Car(\"Toyota\", \"Corolla\", \"Red\")\n",
    "car2 = Car(\"Honda\", \"Civic\", \"Blue\")"
   ]
  },
  {
   "cell_type": "code",
   "execution_count": 92,
   "id": "5bf18d10-a439-482a-bd5b-78dac625a987",
   "metadata": {
    "tags": []
   },
   "outputs": [
    {
     "name": "stdout",
     "output_type": "stream",
     "text": [
      "Toyota\n",
      "Blue\n"
     ]
    }
   ],
   "source": [
    "print(car1.brand)\n",
    "print(car2.color)"
   ]
  },
  {
   "cell_type": "code",
   "execution_count": 94,
   "id": "c2f6d4df-3066-4d3a-a356-bf213e7c3070",
   "metadata": {
    "tags": []
   },
   "outputs": [
    {
     "data": {
      "text/plain": [
       "2"
      ]
     },
     "execution_count": 94,
     "metadata": {},
     "output_type": "execute_result"
    }
   ],
   "source": [
    "car1.total_cars_produced"
   ]
  },
  {
   "cell_type": "markdown",
   "id": "66c10f02-0351-42d0-be98-37021be1468f",
   "metadata": {},
   "source": [
    "---"
   ]
  },
  {
   "cell_type": "markdown",
   "id": "ea2ca0d7-3eea-4804-ada1-67ef306b2813",
   "metadata": {},
   "source": [
    "## Inheritance\n",
    "\n",
    "Inheritance allows a child class to inherit properties and methods from a/many parent class/es."
   ]
  },
  {
   "cell_type": "code",
   "execution_count": 63,
   "id": "e4064015-9b36-4fd9-ade5-245767ee4c8f",
   "metadata": {
    "tags": []
   },
   "outputs": [],
   "source": [
    "# parent class (base class)\n",
    "class Vehicle:\n",
    "    def __init__(self, brand):\n",
    "        self.brand = brand\n",
    "\n",
    "    def start(self):\n",
    "        print(f\"{self.brand} vehicle is starting...\")"
   ]
  },
  {
   "cell_type": "code",
   "execution_count": 65,
   "id": "4c85e9e7-f522-4db1-b771-7a0ac6d26340",
   "metadata": {
    "tags": []
   },
   "outputs": [],
   "source": [
    "# child class (derived class)\n",
    "class Car(Vehicle):\n",
    "    def __init__(self, brand, model):\n",
    "        super().__init__(brand)  # inherit from Vehicle class\n",
    "        self.model = model\n",
    "\n",
    "    def drive(self):\n",
    "        print(f\"Driving the {self.model}\")"
   ]
  },
  {
   "cell_type": "markdown",
   "id": "03eadfff-0c93-48de-b0ac-6197cb4d0b1d",
   "metadata": {},
   "source": [
    "**Note:** `super()` function gives a sub-class access to parent-class attributes."
   ]
  },
  {
   "cell_type": "code",
   "execution_count": 57,
   "id": "565b6b1e-07fa-42c9-8fcd-f35d17f51a5e",
   "metadata": {
    "tags": []
   },
   "outputs": [],
   "source": [
    "my_car = Car(\"Tesla\", \"Model S\")"
   ]
  },
  {
   "cell_type": "code",
   "execution_count": 59,
   "id": "fe42cf70-d5b2-484b-8c1e-15b53ece28a9",
   "metadata": {
    "tags": []
   },
   "outputs": [
    {
     "name": "stdout",
     "output_type": "stream",
     "text": [
      "Tesla vehicle is starting...\n"
     ]
    }
   ],
   "source": [
    "my_car.start()"
   ]
  },
  {
   "cell_type": "code",
   "execution_count": 61,
   "id": "e5275e58-96aa-49d5-8e2c-04684c528a6e",
   "metadata": {
    "tags": []
   },
   "outputs": [
    {
     "name": "stdout",
     "output_type": "stream",
     "text": [
      "Driving the Model S\n"
     ]
    }
   ],
   "source": [
    "my_car.drive()"
   ]
  },
  {
   "cell_type": "markdown",
   "id": "28aeb25e-6965-499c-837b-3b5b6686b8fd",
   "metadata": {},
   "source": [
    "---"
   ]
  },
  {
   "cell_type": "markdown",
   "id": "457b1002-02bd-48fe-99bf-2bf206d87d1a",
   "metadata": {},
   "source": [
    "## Polymorphism\n",
    "\n",
    "Polymorphism allows different classes to have methods with the same name but different behaviors."
   ]
  },
  {
   "cell_type": "code",
   "execution_count": 104,
   "id": "6682fb5b-599c-499d-b468-b3f4aab15a2f",
   "metadata": {
    "tags": []
   },
   "outputs": [],
   "source": [
    "# parent class\n",
    "class Car:\n",
    "    def make_sound(self):\n",
    "        pass  # method to be overridden by child classes"
   ]
  },
  {
   "cell_type": "code",
   "execution_count": 106,
   "id": "09fef105-6944-4c0b-af57-fc74a986887e",
   "metadata": {
    "tags": []
   },
   "outputs": [],
   "source": [
    "# child class\n",
    "class Sedan(Car):\n",
    "    def make_sound(self):\n",
    "        print(\"Sedan goes 'Soft Hum'...\")"
   ]
  },
  {
   "cell_type": "code",
   "execution_count": 108,
   "id": "562973c3-562a-4451-859b-f7278f144ad6",
   "metadata": {
    "tags": []
   },
   "outputs": [],
   "source": [
    "# child class\n",
    "class Truck(Car):\n",
    "    def make_sound(self):\n",
    "        print(\"Truck goes 'Loud Honk!'...\")"
   ]
  },
  {
   "cell_type": "code",
   "execution_count": 110,
   "id": "025e3009-2cf2-48d0-8cb5-001f3d921715",
   "metadata": {
    "tags": []
   },
   "outputs": [],
   "source": [
    "# child class\n",
    "class SUV(Car):\n",
    "    def make_sound(self):\n",
    "        print(\"SUV goes 'Deep Roar!'...\")"
   ]
  },
  {
   "cell_type": "code",
   "execution_count": 112,
   "id": "464d13aa-6f30-46cb-aa35-1221bbb22d49",
   "metadata": {
    "tags": []
   },
   "outputs": [],
   "source": [
    "vehicles = [Sedan(), Truck(), SUV()]"
   ]
  },
  {
   "cell_type": "code",
   "execution_count": 114,
   "id": "5406b06e-ce07-4a8e-9a63-362ad6dc7723",
   "metadata": {
    "tags": []
   },
   "outputs": [
    {
     "name": "stdout",
     "output_type": "stream",
     "text": [
      "Sedan goes 'Soft Hum'...\n",
      "Truck goes 'Loud Honk!'...\n",
      "SUV goes 'Deep Roar!'...\n"
     ]
    }
   ],
   "source": [
    "for vehicle in vehicles:\n",
    "    vehicle.make_sound()"
   ]
  },
  {
   "cell_type": "markdown",
   "id": "419a14da-319c-4f5a-a867-f32962d5af31",
   "metadata": {},
   "source": [
    "---"
   ]
  },
  {
   "cell_type": "markdown",
   "id": "0b26cd73-23cf-4da5-8942-a966109ef6f8",
   "metadata": {
    "tags": []
   },
   "source": [
    "## Encapsulation\n",
    "\n",
    "Encapsulation hides the internal details of an object. We use private variables and public methods to achieve this."
   ]
  },
  {
   "cell_type": "code",
   "execution_count": 22,
   "id": "7fbda477-ee05-4dfc-a848-bd0bd790ea6b",
   "metadata": {
    "tags": []
   },
   "outputs": [],
   "source": [
    "class Car:\n",
    "    def __init__(self, brand, model, color):\n",
    "        self.__engine_status = \"Off\"  # private attribute (hidden)\n",
    "        self.brand = brand\n",
    "        self.model = model\n",
    "        self.color = color\n",
    "\n",
    "    # public methods to interact with the private variable\n",
    "    def start_engine(self):\n",
    "        self.__engine_status = \"On\"\n",
    "        print(f\"Engine started for {self.brand} {self.model}\")\n",
    "\n",
    "    def get_engine_status(self):\n",
    "        return self.__engine_status"
   ]
  },
  {
   "cell_type": "code",
   "execution_count": 24,
   "id": "fbd3a756-c011-4a12-a21b-059b73223e36",
   "metadata": {
    "tags": []
   },
   "outputs": [],
   "source": [
    "car = Car(\"Ford\", \"Mustang\", \"Black\")"
   ]
  },
  {
   "cell_type": "code",
   "execution_count": 26,
   "id": "62ea7537-7239-4f78-99be-eb9eb1c6dfb2",
   "metadata": {
    "tags": []
   },
   "outputs": [
    {
     "data": {
      "text/plain": [
       "'Off'"
      ]
     },
     "execution_count": 26,
     "metadata": {},
     "output_type": "execute_result"
    }
   ],
   "source": [
    "car.get_engine_status()"
   ]
  },
  {
   "cell_type": "code",
   "execution_count": 28,
   "id": "207fc64f-293c-40b3-a243-8943d182c0cd",
   "metadata": {
    "tags": []
   },
   "outputs": [
    {
     "name": "stdout",
     "output_type": "stream",
     "text": [
      "Engine started for Ford Mustang\n"
     ]
    }
   ],
   "source": [
    "car.start_engine()"
   ]
  },
  {
   "cell_type": "code",
   "execution_count": 30,
   "id": "d1fe7935-6833-4d61-b429-5dc9c529b39c",
   "metadata": {
    "tags": []
   },
   "outputs": [
    {
     "data": {
      "text/plain": [
       "'On'"
      ]
     },
     "execution_count": 30,
     "metadata": {},
     "output_type": "execute_result"
    }
   ],
   "source": [
    "car.get_engine_status()"
   ]
  },
  {
   "cell_type": "markdown",
   "id": "9596381f-84d2-49fc-af79-5ca482c79ed2",
   "metadata": {},
   "source": [
    "---"
   ]
  },
  {
   "cell_type": "markdown",
   "id": "ce26b705-0121-4ab4-a3d5-0ba8c0e0ea23",
   "metadata": {},
   "source": [
    "## Abstraction\n",
    "\n",
    "Abstraction hides the complex details and shows only the necessary parts to the user."
   ]
  },
  {
   "cell_type": "code",
   "execution_count": 79,
   "id": "639dae64-60d7-4123-a4d4-03204be13fff",
   "metadata": {
    "tags": []
   },
   "outputs": [],
   "source": [
    "from abc import ABC, abstractmethod\n",
    "\n",
    "# abstract class defining essential vehicle functionalities\n",
    "class Vehicle(ABC):\n",
    "    @abstractmethod\n",
    "    def start_engine(self):\n",
    "        pass  # force child classes to implement this method\n",
    "\n",
    "    @abstractmethod\n",
    "    def drive(self):\n",
    "        pass  # force child classes to implement this method"
   ]
  },
  {
   "cell_type": "markdown",
   "id": "f8cf2400-a01b-4c32-9be7-8ae74b119478",
   "metadata": {},
   "source": [
    "Here, the abstract class `Vehicle` only defines what should be done (i.e., start the engine and drive), but the concrete implementations (ElectricCar and DieselCar) decide how it will be done."
   ]
  },
  {
   "cell_type": "code",
   "execution_count": 81,
   "id": "97501f87-5012-4b38-b491-f982ed688ecc",
   "metadata": {
    "tags": []
   },
   "outputs": [],
   "source": [
    "# concrete classes implementing abstract methods\n",
    "class ElectricCar(Vehicle):\n",
    "    def start_engine(self):\n",
    "        print(\"Electric engine starts with a quiet hum...\")\n",
    "\n",
    "    def drive(self):\n",
    "        print(\"Electric car is driving silently...\")"
   ]
  },
  {
   "cell_type": "code",
   "execution_count": 83,
   "id": "5366344b-45fd-4487-98e4-7b240f7d2dac",
   "metadata": {
    "tags": []
   },
   "outputs": [],
   "source": [
    "# concrete classes implementing abstract methods\n",
    "class DieselCar(Vehicle):\n",
    "    def start_engine(self):\n",
    "        print(\"Diesel engine starts with a loud roar...\")\n",
    "\n",
    "    def drive(self):\n",
    "        print(\"Diesel car is driving with a powerful sound...\")"
   ]
  },
  {
   "cell_type": "code",
   "execution_count": 36,
   "id": "105d174a-8cba-47fe-9101-d40dd9460133",
   "metadata": {
    "tags": []
   },
   "outputs": [],
   "source": [
    "my_electric_car = ElectricCar()\n",
    "my_diesel_car = DieselCar()"
   ]
  },
  {
   "cell_type": "code",
   "execution_count": 38,
   "id": "efd2825b-46c2-4b8e-911d-dc11fcb27f3f",
   "metadata": {
    "tags": []
   },
   "outputs": [
    {
     "name": "stdout",
     "output_type": "stream",
     "text": [
      "Electric engine starts with a quiet hum...\n"
     ]
    }
   ],
   "source": [
    "my_electric_car.start_engine()"
   ]
  },
  {
   "cell_type": "code",
   "execution_count": 40,
   "id": "ce02a1e6-06df-469c-877b-9bca570f806d",
   "metadata": {
    "tags": []
   },
   "outputs": [
    {
     "name": "stdout",
     "output_type": "stream",
     "text": [
      "Diesel car is driving with a powerful sound...\n"
     ]
    }
   ],
   "source": [
    "my_diesel_car.drive()"
   ]
  },
  {
   "cell_type": "markdown",
   "id": "b52bef8b-74cf-4708-a566-c9f7891ae6d9",
   "metadata": {},
   "source": [
    "**Note:** Polymorphism focuses on different behaviors for the same method name, while abstraction enforces a structure and allows flexibility in how that structure is implemented"
   ]
  },
  {
   "cell_type": "markdown",
   "id": "4b95d752-4f53-4d57-b91f-3e76f7b179dc",
   "metadata": {},
   "source": [
    "---"
   ]
  }
 ],
 "metadata": {
  "kernelspec": {
   "display_name": "Python 3 (ipykernel)",
   "language": "python",
   "name": "python3"
  },
  "language_info": {
   "codemirror_mode": {
    "name": "ipython",
    "version": 3
   },
   "file_extension": ".py",
   "mimetype": "text/x-python",
   "name": "python",
   "nbconvert_exporter": "python",
   "pygments_lexer": "ipython3",
   "version": "3.11.7"
  }
 },
 "nbformat": 4,
 "nbformat_minor": 5
}
